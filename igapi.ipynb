{
 "cells": [
  {
   "cell_type": "code",
   "execution_count": null,
   "id": "e94598f8",
   "metadata": {},
   "outputs": [],
   "source": [
    "import requests\n",
    "import json\n",
    "import os\n",
    "from dotenv import load_dotenv"
   ]
  },
  {
   "cell_type": "markdown",
   "id": "0fc0d67e",
   "metadata": {},
   "source": [
    "## Config Meta App + Instagram Variables"
   ]
  },
  {
   "cell_type": "code",
   "execution_count": null,
   "id": "804f0731",
   "metadata": {},
   "outputs": [],
   "source": [
    "load_dotenv()\n",
    "\n",
    "ig_user_id = os.getenv(\"IG_USER_ID\")\n",
    "app_id = os.getenv(\"APP_ID\")\n",
    "app_secret = os.getenv(\"APP_SECRET\")\n",
    "user_access_token = os.getenv(\"USER_ACCESS_TOKEN\")"
   ]
  },
  {
   "cell_type": "code",
   "execution_count": null,
   "id": "eb18235d",
   "metadata": {},
   "outputs": [],
   "source": [
    "https://graph.facebook.com/v19.0/oauth/access_token\n",
    "?grant_type=fb_exchange_token\n",
    "&client_id={app_id}\n",
    "&client_secret={app_secret}\n",
    "&fb_exchange_token={user_access_token}"
   ]
  },
  {
   "cell_type": "markdown",
   "id": "68f7102f",
   "metadata": {},
   "source": [
    "## Get Long Access Token"
   ]
  },
  {
   "cell_type": "code",
   "execution_count": null,
   "id": "d27ab738",
   "metadata": {},
   "outputs": [],
   "source": [
    "url = f\"https://graph.facebook.com/v19.0/oauth/access_token?grant_type=fb_exchange_token&client_id={app_id}&client_secret={app_secret}&fb_exchange_token={user_access_token}\"\n",
    "response = requests.get(url)\n",
    "#print(response.content)\n",
    "long_access_token = response.json()[\"access_token\"]\n",
    "long_access_token"
   ]
  },
  {
   "cell_type": "markdown",
   "id": "b05a7431",
   "metadata": {},
   "source": [
    "## Test API"
   ]
  },
  {
   "cell_type": "code",
   "execution_count": null,
   "id": "acb505b2",
   "metadata": {},
   "outputs": [],
   "source": [
    "\"https://graph.facebook.com/v23.0/17841405309211844 \\\n",
    "  ?fields=business_discovery.username(bluebottle){followers_count,media_count} \\\n",
    "  &access_token=<YOUR_APP_USERS_INSTAGRAM_USER_ACCESS_TOKEN>\""
   ]
  },
  {
   "cell_type": "code",
   "execution_count": null,
   "id": "6d9ec303",
   "metadata": {},
   "outputs": [],
   "source": [
    "# Get account details\n",
    "username=\"jestestbusiness\"\n",
    "required_param = \"{followers_count,media_count}\"\n",
    "url = f\"https://graph.facebook.com/v19.0/{ig_user_id}?fields=business_discovery.username({username}){required_param}&access_token={long_access_token}\"\n",
    "response = requests.get(url)\n",
    "metadata= response.json()\n",
    "followers_count = metadata[\"business_discovery\"][\"followers_count\"]\n",
    "media_count = metadata[\"business_discovery\"][\"media_count\"]\n",
    "print(json.dumps(metadata, indent=4))"
   ]
  },
  {
   "cell_type": "markdown",
   "id": "c9782fcb",
   "metadata": {},
   "source": [
    "### Check User Page (Does not work on Private Accounts)"
   ]
  },
  {
   "cell_type": "code",
   "execution_count": null,
   "id": "9d885771",
   "metadata": {},
   "outputs": [],
   "source": [
    "ig_username = \"photovogue\"\n",
    "required_param = \"{name,website,biography,followers_count,follows_count,media_count,profile_picture_url,media.limit(5){thumbnail_url,media_type,media_product_type,timestamp,like_count,comments_count,media_url,permalink}}\""
   ]
  },
  {
   "cell_type": "code",
   "execution_count": null,
   "id": "088cf89a",
   "metadata": {},
   "outputs": [],
   "source": [
    "url = f\"https://graph.facebook.com/v19.0/{ig_user_id}?fields=business_discovery.username({ig_username}){required_param}&access_token={long_access_token}\"\n",
    "response = requests.get(url)\n",
    "metadata = response.json()\n",
    "print(json.dumps(metadata, indent=4))"
   ]
  },
  {
   "cell_type": "markdown",
   "id": "37738478",
   "metadata": {},
   "source": [
    "### Download a Post and Thumbnail"
   ]
  },
  {
   "cell_type": "code",
   "execution_count": null,
   "id": "985a8588",
   "metadata": {},
   "outputs": [],
   "source": [
    "first_post_link = metadata[\"business_discovery\"][\"media\"][\"data\"][0][\"media_url\"]\n",
    "print(f\"Media URL : {first_post_link} \\n\")\n",
    "first_post_thumbnail_link = metadata[\"business_discovery\"][\"media\"][\"data\"][0][\"thumbnail_url\"]\n",
    "print(f\"Media Thumbnail URL : {first_post_thumbnail_link}\")"
   ]
  },
  {
   "cell_type": "code",
   "execution_count": null,
   "id": "bcdeaaca",
   "metadata": {},
   "outputs": [],
   "source": [
    "os.makedirs(\"./temp\", exist_ok=True)\n",
    "\n",
    "response = requests.get(first_post_link)\n",
    "with open (\"./temp/first_post.mp4\", \"wb\") as f:\n",
    "    f.write(response.content)"
   ]
  },
  {
   "cell_type": "code",
   "execution_count": null,
   "id": "30fa4253",
   "metadata": {},
   "outputs": [],
   "source": [
    "response = requests.get(first_post_thumbnail_link)\n",
    "with open (\"./temp/first_post_thumbnail_link.jpg\", \"wb\") as f:\n",
    "    f.write(response.content)"
   ]
  },
  {
   "cell_type": "markdown",
   "id": "74a8dbb3",
   "metadata": {},
   "source": [
    "### Pagination"
   ]
  },
  {
   "cell_type": "code",
   "execution_count": null,
   "id": "95b48b96",
   "metadata": {},
   "outputs": [],
   "source": [
    "{media.limit(1).after(your_after_code){your_fields_by_comma_separation}}"
   ]
  },
  {
   "cell_type": "code",
   "execution_count": null,
   "id": "ac66aa03",
   "metadata": {},
   "outputs": [],
   "source": [
    "after_code = metadata[\"business_discovery\"][\"media\"][\"paging\"][\"cursors\"][\"after\"]\n",
    "after_code"
   ]
  },
  {
   "cell_type": "code",
   "execution_count": null,
   "id": "e76cf1d1",
   "metadata": {},
   "outputs": [],
   "source": [
    "required_param = \"{media.after(\" + after_code + \"){thumbnail_url,media_type,media_product_type,timestamp,like_count,comments_count,media_url,permalink}}\"\n",
    "url = f\"https://graph.facebook.com/v19.0/{ig_user_id}?fields=business_discovery.username({ig_username}){required_param}&access_token={long_access_token}\"\n",
    "response = requests.get(url)\n",
    "metadata = response.json()\n",
    "print(json.dumps(metadata, indent=4))"
   ]
  },
  {
   "cell_type": "code",
   "execution_count": null,
   "id": "1bcfc6d0",
   "metadata": {},
   "outputs": [],
   "source": []
  }
 ],
 "metadata": {
  "kernelspec": {
   "display_name": "venv",
   "language": "python",
   "name": "python3"
  },
  "language_info": {
   "codemirror_mode": {
    "name": "ipython",
    "version": 3
   },
   "file_extension": ".py",
   "mimetype": "text/x-python",
   "name": "python",
   "nbconvert_exporter": "python",
   "pygments_lexer": "ipython3",
   "version": "3.12.1"
  }
 },
 "nbformat": 4,
 "nbformat_minor": 5
}
