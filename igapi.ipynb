{
 "cells": [
  {
   "cell_type": "code",
   "execution_count": 48,
   "id": "e94598f8",
   "metadata": {},
   "outputs": [],
   "source": [
    "import requests\n",
    "import json\n",
    "import os\n",
    "from dotenv import load_dotenv"
   ]
  },
  {
   "cell_type": "markdown",
   "id": "0fc0d67e",
   "metadata": {},
   "source": [
    "## Config Meta App + Instagram Variables"
   ]
  },
  {
   "cell_type": "code",
   "execution_count": 49,
   "id": "804f0731",
   "metadata": {},
   "outputs": [],
   "source": [
    "load_dotenv()\n",
    "\n",
    "ig_user_id = os.getenv(\"IG_USER_ID\")\n",
    "app_id = os.getenv(\"APP_ID\")\n",
    "app_secret = os.getenv(\"APP_SECRET\")\n",
    "user_access_token = os.getenv(\"USER_ACCESS_TOKEN\")"
   ]
  },
  {
   "cell_type": "code",
   "execution_count": null,
   "id": "eb18235d",
   "metadata": {},
   "outputs": [],
   "source": [
    "https://graph.facebook.com/v19.0/oauth/access_token\n",
    "?grant_type=fb_exchange_token\n",
    "&client_id={app_id}\n",
    "&client_secret={app_secret}\n",
    "&fb_exchange_token={user_access_token}"
   ]
  },
  {
   "cell_type": "markdown",
   "id": "68f7102f",
   "metadata": {},
   "source": [
    "## Get Long Access Token"
   ]
  },
  {
   "cell_type": "code",
   "execution_count": 3,
   "id": "d27ab738",
   "metadata": {},
   "outputs": [
    {
     "data": {
      "text/plain": [
       "'EAAYMUDcHYToBPP14SeKtadXPxi3Q2k1nQ3kG88WsfW6Q11rKAiJMLib7TC8JZBaH4s6l86p3ZAuHJsKDrnVfgp8to5zXWIKrI3021BQPZAsX8iBWwbOznX5wgggJBmTGUkXrlMifwCI2hJ0ttwdZAktSTJSOLB4brNx94nCIe1weVCP2JNz6rT0AM5L3'"
      ]
     },
     "execution_count": 3,
     "metadata": {},
     "output_type": "execute_result"
    }
   ],
   "source": [
    "url = f\"https://graph.facebook.com/v19.0/oauth/access_token?grant_type=fb_exchange_token&client_id={app_id}&client_secret={app_secret}&fb_exchange_token={user_access_token}\"\n",
    "response = requests.get(url)\n",
    "#print(response.content)\n",
    "long_access_token = response.json()[\"access_token\"]\n",
    "long_access_token"
   ]
  },
  {
   "cell_type": "markdown",
   "id": "b05a7431",
   "metadata": {},
   "source": [
    "## Test API"
   ]
  },
  {
   "cell_type": "code",
   "execution_count": null,
   "id": "acb505b2",
   "metadata": {},
   "outputs": [],
   "source": [
    "\"https://graph.facebook.com/v23.0/17841405309211844 \\\n",
    "  ?fields=business_discovery.username(bluebottle){followers_count,media_count} \\\n",
    "  &access_token=<YOUR_APP_USERS_INSTAGRAM_USER_ACCESS_TOKEN>\""
   ]
  },
  {
   "cell_type": "code",
   "execution_count": 12,
   "id": "6d9ec303",
   "metadata": {},
   "outputs": [
    {
     "name": "stdout",
     "output_type": "stream",
     "text": [
      "{\n",
      "    \"business_discovery\": {\n",
      "        \"followers_count\": 1,\n",
      "        \"media_count\": 0,\n",
      "        \"id\": \"17841476287277831\"\n",
      "    },\n",
      "    \"id\": \"17841476287277831\"\n",
      "}\n"
     ]
    }
   ],
   "source": [
    "# Get account details\n",
    "username=\"jestestbusiness\"\n",
    "required_param = \"{followers_count,media_count}\"\n",
    "url = f\"https://graph.facebook.com/v19.0/{ig_user_id}?fields=business_discovery.username({username}){required_param}&access_token={long_access_token}\"\n",
    "response = requests.get(url)\n",
    "metadata= response.json()\n",
    "followers_count = metadata[\"business_discovery\"][\"followers_count\"]\n",
    "media_count = metadata[\"business_discovery\"][\"media_count\"]\n",
    "print(json.dumps(metadata, indent=4))"
   ]
  },
  {
   "cell_type": "markdown",
   "id": "c9782fcb",
   "metadata": {},
   "source": [
    "### Check User Page (Does not work on Private Accounts)"
   ]
  },
  {
   "cell_type": "code",
   "execution_count": 41,
   "id": "9d885771",
   "metadata": {},
   "outputs": [],
   "source": [
    "ig_username = \"photovogue\"\n",
    "required_param = \"{name,website,biography,followers_count,follows_count,media_count,profile_picture_url,media.limit(5){thumbnail_url,media_type,media_product_type,timestamp,like_count,comments_count,media_url,permalink}}\""
   ]
  },
  {
   "cell_type": "code",
   "execution_count": 42,
   "id": "088cf89a",
   "metadata": {},
   "outputs": [
    {
     "name": "stdout",
     "output_type": "stream",
     "text": [
      "{\n",
      "    \"business_discovery\": {\n",
      "        \"name\": \"PhotoVogue\",\n",
      "        \"website\": \"https://www.vogue.com/article/photovogue-unveils-the-women-by-women-shortlist-the-150-artists-redefining-the-female-gaze-for-the-platforms-most-ambitious-open-call-yet\",\n",
      "        \"biography\": \"We champion talent and influence visual literacy to help foster a more just, ethical and inclusive world.\",\n",
      "        \"followers_count\": 542144,\n",
      "        \"follows_count\": 31,\n",
      "        \"media_count\": 2322,\n",
      "        \"profile_picture_url\": \"https://scontent.fmnl13-3.fna.fbcdn.net/v/t51.2885-15/357655889_1319511465605542_8079906175254703361_n.jpg?_nc_cat=101&ccb=1-7&_nc_sid=7d201b&_nc_ohc=n2qLdgHoZwMQ7kNvwGY1pEQ&_nc_oc=AdlZCfuxGkPLKwzpiiOGjfKZHsGQLzn4l-BUPhkPa2P3Vx6BMePfwwb-tQsUYXwp-dYvaPP-UMUyrtikw3-3uGk2&_nc_zt=23&_nc_ht=scontent.fmnl13-3.fna&edm=AL-3X8kEAAAA&oh=00_AfQXgwrqhTNEVmRGqxCSA5cACzv08uzhKjE2FehF8YfhnQ&oe=6890F7A4\",\n",
      "        \"media\": {\n",
      "            \"data\": [\n",
      "                {\n",
      "                    \"media_type\": \"IMAGE\",\n",
      "                    \"media_product_type\": \"FEED\",\n",
      "                    \"timestamp\": \"2025-07-31T06:37:31+0000\",\n",
      "                    \"like_count\": 249,\n",
      "                    \"comments_count\": 1,\n",
      "                    \"media_url\": \"https://scontent.cdninstagram.com/v/t51.82787-15/525306931_18473141698072627_5919927288758989627_n.jpg?stp=dst-jpg_e35_tt6&_nc_cat=109&ccb=1-7&_nc_sid=18de74&_nc_ohc=rv_MHG7nzYcQ7kNvwG9mIYn&_nc_oc=AdmAVnZylFKd2xjstnmvKmPAkNNjRJTE8bCmhKBn-Fva8_Hu8mbYCPXteGX2Fy7vaXZKMllMGw0tsbJeDkrsHoFm&_nc_zt=23&_nc_ht=scontent.cdninstagram.com&edm=AL-3X8kEAAAA&_nc_gid=GDnEx2ZjcLqF_2D4b0c2Bg&oh=00_AfTFuv3qCD_Lhixnwg3u1s06KXesFsSqGn0lt3wIY6vzrQ&oe=6890E816\",\n",
      "                    \"permalink\": \"https://www.instagram.com/p/DMwypTHIm0a/\",\n",
      "                    \"id\": \"18066319297915998\"\n",
      "                },\n",
      "                {\n",
      "                    \"media_type\": \"CAROUSEL_ALBUM\",\n",
      "                    \"media_product_type\": \"FEED\",\n",
      "                    \"timestamp\": \"2025-07-30T15:59:36+0000\",\n",
      "                    \"like_count\": 1476,\n",
      "                    \"comments_count\": 16,\n",
      "                    \"media_url\": \"https://scontent.cdninstagram.com/v/t51.82787-15/525700585_18473049571072627_9210722092995080861_n.jpg?stp=dst-jpg_e35_tt6&_nc_cat=107&ccb=1-7&_nc_sid=18de74&_nc_ohc=W0UbxGAhjHYQ7kNvwH3skx7&_nc_oc=Admw9nuVEXPAquVz1PdWrRaDEY4GUPlTlsCJcRm3SO2AKYb5xEJWO8CS-si2xiJRQFAMRTtj6uX52up669xhD2XT&_nc_zt=23&_nc_ht=scontent.cdninstagram.com&edm=AL-3X8kEAAAA&_nc_gid=GDnEx2ZjcLqF_2D4b0c2Bg&oh=00_AfQOTLRNhX7OsYljMEQM1YPvdP5MwMmRsGoE15ZyQrqaHw&oe=68911291\",\n",
      "                    \"permalink\": \"https://www.instagram.com/p/DMvOLP1IOnY/\",\n",
      "                    \"id\": \"18160823311369151\"\n",
      "                },\n",
      "                {\n",
      "                    \"media_type\": \"IMAGE\",\n",
      "                    \"media_product_type\": \"FEED\",\n",
      "                    \"timestamp\": \"2025-07-30T06:09:29+0000\",\n",
      "                    \"like_count\": 966,\n",
      "                    \"comments_count\": 29,\n",
      "                    \"media_url\": \"https://scontent.cdninstagram.com/v/t51.82787-15/524877968_18472983304072627_399369577881368280_n.jpg?stp=dst-jpg_e35_tt6&_nc_cat=109&ccb=1-7&_nc_sid=18de74&_nc_ohc=qa5Fj9YxDBcQ7kNvwFljhyF&_nc_oc=Adns52P9lmh_xq-AlFxW_2bSBLdDZHUnfI3l_64K1vnlD62G_SXVXnTvrDq_hMAftYhIYRb-KrRL51XoWlzh4G7k&_nc_zt=23&_nc_ht=scontent.cdninstagram.com&edm=AL-3X8kEAAAA&_nc_gid=GDnEx2ZjcLqF_2D4b0c2Bg&oh=00_AfQr3Ru2I0imXe3_Uc5PWEagnulQyXZQY6ysWvJ2bts1eQ&oe=689115D4\",\n",
      "                    \"permalink\": \"https://www.instagram.com/p/DMuKpHRIJLw/\",\n",
      "                    \"id\": \"18034394717688878\"\n",
      "                },\n",
      "                {\n",
      "                    \"thumbnail_url\": \"https://scontent.cdninstagram.com/v/t51.71878-15/525327913_1104206081620680_7497616641135615367_n.jpg?stp=dst-jpg_e35_tt6&_nc_cat=100&ccb=1-7&_nc_sid=18de74&_nc_ohc=yztc_V0ZG-EQ7kNvwFYzlzj&_nc_oc=AdnctPHCfQDiqtwAUlRdSg54wNCjLVUpX-ohWEkGiFsOOEYgq327-ItcP3U5-uJjz_8uXYPOMLsY9LlswzWwe_8I&_nc_zt=23&_nc_ht=scontent.cdninstagram.com&edm=AL-3X8kEAAAA&_nc_gid=GDnEx2ZjcLqF_2D4b0c2Bg&oh=00_AfQzKB1C3dd9xKnJKmJkVONmVt42jsaGxWpEV5Hj-0qBcQ&oe=689114B9\",\n",
      "                    \"media_type\": \"VIDEO\",\n",
      "                    \"media_product_type\": \"REELS\",\n",
      "                    \"timestamp\": \"2025-07-29T13:00:00+0000\",\n",
      "                    \"like_count\": 3180,\n",
      "                    \"comments_count\": 151,\n",
      "                    \"media_url\": \"https://instagram.fmnl13-1.fna.fbcdn.net/o1/v/t2/f2/m86/AQOVe-gtt-iBOXabfuGSqZUPXecqjdYQKuTxn2Mj-QLcfEV7bcIK6Sx3N-W_iy94lslRyYTjDCCmKru9LWLvJYoNQglqljvB552L62Q.mp4?_nc_cat=100&_nc_oc=Adm91ddw7VjCpqiH3O0yB0Xud97EZ6dH1tGaCzoWdqrv1W5hg2EJR1f5_z2l4RccVhHMriNvdOSD9MjIP5WdJPrS&_nc_sid=5e9851&_nc_ht=instagram.fmnl13-1.fna.fbcdn.net&_nc_ohc=QqJ5cEBjDKsQ7kNvwGItFEf&efg=eyJ2ZW5jb2RlX3RhZyI6Inhwdl9wcm9ncmVzc2l2ZS5JTlNUQUdSQU0uQ0xJUFMuQzMuNzIwLmRhc2hfYmFzZWxpbmVfMV92MSIsInhwdl9hc3NldF9pZCI6OTExMzY1NDY3ODYxMzYzLCJ2aV91c2VjYXNlX2lkIjoxMDA5OSwiZHVyYXRpb25fcyI6MjQsInVybGdlbl9zb3VyY2UiOiJ3d3cifQ%3D%3D&ccb=17-1&vs=c25c611a68a01384&_nc_vs=HBksFQIYUmlnX3hwdl9yZWVsc19wZXJtYW5lbnRfc3JfcHJvZC8wNzRFNjgxRDU2MzBEQTQ4NkM3NkNBOUEwOTk1REU5Q192aWRlb19kYXNoaW5pdC5tcDQVAALIARIAFQIYOnBhc3N0aHJvdWdoX2V2ZXJzdG9yZS9HTDdtU1I5SEJnZlJ6a0FHQU02bnNoQ3IxRlFNYnFfRUFBQUYVAgLIARIAKAAYABsCiAd1c2Vfb2lsATEScHJvZ3Jlc3NpdmVfcmVjaXBlATEVAAAm5sXH77m4ngMVAigCQzMsF0A5AAAAAAAAGBJkYXNoX2Jhc2VsaW5lXzFfdjERAHX-B2XmnQEA&_nc_zt=28&oh=00_AfSENcVon8cunVhLm44Vlxhd5EkbhQGSKKPuF9jA7jo4jQ&oe=688D0A91\",\n",
      "                    \"permalink\": \"https://www.instagram.com/reel/DMsUvnQI_mC/\",\n",
      "                    \"id\": \"18059994080040697\"\n",
      "                },\n",
      "                {\n",
      "                    \"media_type\": \"IMAGE\",\n",
      "                    \"media_product_type\": \"FEED\",\n",
      "                    \"timestamp\": \"2025-07-29T06:13:03+0000\",\n",
      "                    \"like_count\": 2242,\n",
      "                    \"comments_count\": 33,\n",
      "                    \"media_url\": \"https://scontent.cdninstagram.com/v/t51.82787-15/525253247_18472831576072627_7785649714857650671_n.jpg?stp=dst-jpg_e35_tt6&_nc_cat=105&ccb=1-7&_nc_sid=18de74&_nc_ohc=dAVZZjhAGPIQ7kNvwEwlZyK&_nc_oc=AdkzzWuuMyZorbCNkgJCyB_FbyAJ3OkSBA5EMXw_xcEvtAaJP5We3kU-bZpCsBmbOZBUkePZhzeeWS6biOWYwR_Z&_nc_zt=23&_nc_ht=scontent.cdninstagram.com&edm=AL-3X8kEAAAA&_nc_gid=GDnEx2ZjcLqF_2D4b0c2Bg&oh=00_AfRevzfqT1TV4ZeDBgo97tzE_cFXCqKXReLlpCiRQ1MI4Q&oe=6890FCFB\",\n",
      "                    \"permalink\": \"https://www.instagram.com/p/DMrmQYnIp_k/\",\n",
      "                    \"id\": \"18068253152514035\"\n",
      "                }\n",
      "            ],\n",
      "            \"paging\": {\n",
      "                \"cursors\": {\n",
      "                    \"after\": \"QVFGbTJHV2d2TzF4VEhWbUZAONVluVnZAQdlZA2Qnh0d3hnZAUxGZAnRGaUJueDRnWVg5YnZAFQ0RON182T3ZAPWmF4enlLVVJtcEtiT2lWT3Y0eW95OGN3TFNxRml3\"\n",
      "                }\n",
      "            }\n",
      "        },\n",
      "        \"id\": \"17841402178792716\"\n",
      "    },\n",
      "    \"id\": \"17841476287277831\"\n",
      "}\n"
     ]
    }
   ],
   "source": [
    "url = f\"https://graph.facebook.com/v19.0/{ig_user_id}?fields=business_discovery.username({ig_username}){required_param}&access_token={long_access_token}\"\n",
    "response = requests.get(url)\n",
    "metadata = response.json()\n",
    "print(json.dumps(metadata, indent=4))"
   ]
  },
  {
   "cell_type": "markdown",
   "id": "37738478",
   "metadata": {},
   "source": [
    "### Download a Post and Thumbnail"
   ]
  },
  {
   "cell_type": "code",
   "execution_count": 29,
   "id": "985a8588",
   "metadata": {},
   "outputs": [
    {
     "name": "stdout",
     "output_type": "stream",
     "text": [
      "Media URL : https://instagram.fmnl13-1.fna.fbcdn.net/o1/v/t2/f2/m86/AQNs6_qSYQVt_9pX4OGXCleguDVcNI_KDe00yO2InN8Biak-2YESxN24FEBO6PTRk_Aci_01Q4vkZ0W4AJcjf1PN9GkMq3I7GHX4ClM.mp4?_nc_cat=104&_nc_oc=AdkzSeqauDhCC3O5RY7kdTZYL5XlRJzBqcHjXZ5mozYtvOKpXjPgLOKYlxACo8BAtx9xIthLdsF1LymvpKNyKHEg&_nc_sid=5e9851&_nc_ht=instagram.fmnl13-1.fna.fbcdn.net&_nc_ohc=BUAGePcZcmIQ7kNvwHIU33C&efg=eyJ2ZW5jb2RlX3RhZyI6Inhwdl9wcm9ncmVzc2l2ZS5JTlNUQUdSQU0uQ0xJUFMuQzMuNzIwLmRhc2hfYmFzZWxpbmVfMV92MSIsInhwdl9hc3NldF9pZCI6NjM2MzI2NzE2MTYzMzExLCJ2aV91c2VjYXNlX2lkIjoxMDA5OSwiZHVyYXRpb25fcyI6NDksInVybGdlbl9zb3VyY2UiOiJ3d3cifQ%3D%3D&ccb=17-1&vs=ac7f09bb786cca73&_nc_vs=HBksFQIYUmlnX3hwdl9yZWVsc19wZXJtYW5lbnRfc3JfcHJvZC9BQjQ5NUZGNDREN0Y1RTMzQzZERENGMzA4RTBDQ0VBNF92aWRlb19kYXNoaW5pdC5tcDQVAALIARIAFQIYOnBhc3N0aHJvdWdoX2V2ZXJzdG9yZS9HTzFETlI5Y1dRRjgtMVVLQU5FMm5ZaV80V3hkYnFfRUFBQUYVAgLIARIAKAAYABsCiAd1c2Vfb2lsATEScHJvZ3Jlc3NpdmVfcmVjaXBlATEVAAAm3pOGvouvoQIVAigCQzMsF0BI7tkWhysCGBJkYXNoX2Jhc2VsaW5lXzFfdjERAHX-B2XmnQEA&_nc_zt=28&oh=00_AfSUvIR2u5fLHxo1UJnYMks-wnCaKF0osyf9-eztTvqYLw&oe=688CFF65 \n",
      "\n",
      "Media Thumbnail URL : https://scontent.cdninstagram.com/v/t51.82787-15/524593446_18086173594940908_8593025383504807092_n.jpg?stp=dst-jpg_e35_tt6&_nc_cat=110&ccb=1-7&_nc_sid=18de74&_nc_ohc=FYPPSN52K0YQ7kNvwFU9J07&_nc_oc=AdkMXVAjvKUJiXis1B-7SKaAma9A5WD2AV538dyq-egZbn4lMa8ajVXbwXVpS3Cw9tvDxtxAv7WhzzoQy7JW0ZMq&_nc_zt=23&_nc_ht=scontent.cdninstagram.com&edm=AL-3X8kEAAAA&_nc_gid=xPH-qVFteUDso6-QCzI_IA&oh=00_AfSua8mIAe6RfvryyxB2mNAXsIF20690mzTEkbiY05PbNQ&oe=689109F4\n"
     ]
    }
   ],
   "source": [
    "first_post_link = metadata[\"business_discovery\"][\"media\"][\"data\"][0][\"media_url\"]\n",
    "print(f\"Media URL : {first_post_link} \\n\")\n",
    "first_post_thumbnail_link = metadata[\"business_discovery\"][\"media\"][\"data\"][0][\"thumbnail_url\"]\n",
    "print(f\"Media Thumbnail URL : {first_post_thumbnail_link}\")"
   ]
  },
  {
   "cell_type": "code",
   "execution_count": 36,
   "id": "bcdeaaca",
   "metadata": {},
   "outputs": [],
   "source": [
    "os.makedirs(\"./temp\", exist_ok=True)\n",
    "\n",
    "response = requests.get(first_post_link)\n",
    "with open (\"./temp/first_post.mp4\", \"wb\") as f:\n",
    "    f.write(response.content)"
   ]
  },
  {
   "cell_type": "code",
   "execution_count": null,
   "id": "30fa4253",
   "metadata": {},
   "outputs": [],
   "source": [
    "response = requests.get(first_post_thumbnail_link)\n",
    "with open (\"./temp/first_post_thumbnail_link.jpg\", \"wb\") as f:\n",
    "    f.write(response.content)"
   ]
  },
  {
   "cell_type": "markdown",
   "id": "74a8dbb3",
   "metadata": {},
   "source": [
    "### Pagination"
   ]
  },
  {
   "cell_type": "code",
   "execution_count": null,
   "id": "95b48b96",
   "metadata": {},
   "outputs": [],
   "source": [
    "{media.limit(1).after(your_after_code){your_fields_by_comma_separation}}"
   ]
  },
  {
   "cell_type": "code",
   "execution_count": 44,
   "id": "ac66aa03",
   "metadata": {},
   "outputs": [
    {
     "data": {
      "text/plain": [
       "'QVFGbTJHV2d2TzF4VEhWbUZAONVluVnZAQdlZA2Qnh0d3hnZAUxGZAnRGaUJueDRnWVg5YnZAFQ0RON182T3ZAPWmF4enlLVVJtcEtiT2lWT3Y0eW95OGN3TFNxRml3'"
      ]
     },
     "execution_count": 44,
     "metadata": {},
     "output_type": "execute_result"
    }
   ],
   "source": [
    "after_code = metadata[\"business_discovery\"][\"media\"][\"paging\"][\"cursors\"][\"after\"]\n",
    "after_code"
   ]
  },
  {
   "cell_type": "code",
   "execution_count": 45,
   "id": "e76cf1d1",
   "metadata": {},
   "outputs": [
    {
     "name": "stdout",
     "output_type": "stream",
     "text": [
      "{\n",
      "    \"business_discovery\": {\n",
      "        \"media\": {\n",
      "            \"data\": [\n",
      "                {\n",
      "                    \"media_type\": \"CAROUSEL_ALBUM\",\n",
      "                    \"media_product_type\": \"FEED\",\n",
      "                    \"timestamp\": \"2025-07-28T14:00:03+0000\",\n",
      "                    \"like_count\": 1015,\n",
      "                    \"comments_count\": 16,\n",
      "                    \"media_url\": \"https://scontent.cdninstagram.com/v/t51.82787-15/523144747_18472727242072627_4567126175937814644_n.jpg?stp=dst-jpg_e35_tt6&_nc_cat=106&ccb=1-7&_nc_sid=18de74&_nc_ohc=RfLxfegeETkQ7kNvwFlxagb&_nc_oc=Adl7qGIRBy5H_zE9DGuzo8gkF_Myak1jYAEU5exWMLyuRKCQ7Taw6vht7LfDkNggWIDjKYp7LKlVlp2yj3uHFfO9&_nc_zt=23&_nc_ht=scontent.cdninstagram.com&edm=AL-3X8kEAAAA&_nc_gid=2f7z8mEip0fFjzMUn1XTVg&oh=00_AfR2zSsQEetRrXSM3G1iZnFN940ARko-UTVPi44YDJjwSQ&oe=6890E422\",\n",
      "                    \"permalink\": \"https://www.instagram.com/p/DMp254CIcnj/\",\n",
      "                    \"id\": \"18105369145557134\"\n",
      "                },\n",
      "                {\n",
      "                    \"media_type\": \"IMAGE\",\n",
      "                    \"media_product_type\": \"FEED\",\n",
      "                    \"timestamp\": \"2025-07-28T06:15:47+0000\",\n",
      "                    \"like_count\": 564,\n",
      "                    \"comments_count\": 26,\n",
      "                    \"media_url\": \"https://scontent.cdninstagram.com/v/t51.82787-15/523862315_18472671706072627_4084855062115232170_n.jpg?stp=dst-jpg_e35_tt6&_nc_cat=110&ccb=1-7&_nc_sid=18de74&_nc_ohc=RnB321ETsx4Q7kNvwGkY8V2&_nc_oc=AdlXZ0SdKvqN23B_jD94bYuUiqlvgaWxTi_4q1SAdgF7maM4AzbhCfBIZjhobq3AcMN3RIJP05jwzyjq8OJlkmbE&_nc_zt=23&_nc_ht=scontent.cdninstagram.com&edm=AL-3X8kEAAAA&_nc_gid=2f7z8mEip0fFjzMUn1XTVg&oh=00_AfSPJLAfjSo_-NOuHMGiKAQcFvZZ3FKgcwswER-BYIGAiQ&oe=6891093E\",\n",
      "                    \"permalink\": \"https://www.instagram.com/p/DMpBxfBI2HQ/\",\n",
      "                    \"id\": \"18076111378784782\"\n",
      "                },\n",
      "                {\n",
      "                    \"media_type\": \"IMAGE\",\n",
      "                    \"media_product_type\": \"FEED\",\n",
      "                    \"timestamp\": \"2025-07-27T07:21:07+0000\",\n",
      "                    \"like_count\": 1194,\n",
      "                    \"comments_count\": 11,\n",
      "                    \"media_url\": \"https://scontent.cdninstagram.com/v/t51.82787-15/523386672_18472509733072627_254299816004294551_n.jpg?stp=dst-jpg_e35_tt6&_nc_cat=109&ccb=1-7&_nc_sid=18de74&_nc_ohc=13Wo_HpW3q8Q7kNvwFqqpQM&_nc_oc=AdnJCieTdmzdac5RWhwCG2Q-z3idq_sFBvEMAp-fqipM3j-D9eNR8vjSmfVP27P_91A98cuz8BPcTvReBExUjJH0&_nc_zt=23&_nc_ht=scontent.cdninstagram.com&edm=AL-3X8kEAAAA&_nc_gid=2f7z8mEip0fFjzMUn1XTVg&oh=00_AfRdnQvZRu2EFobrMgHCY67Lo19s-kNxJ_m_daztelf4iA&oe=6890E7D3\",\n",
      "                    \"permalink\": \"https://www.instagram.com/p/DMmkdLDIImH/\",\n",
      "                    \"id\": \"18330812287204882\"\n",
      "                },\n",
      "                {\n",
      "                    \"media_type\": \"IMAGE\",\n",
      "                    \"media_product_type\": \"FEED\",\n",
      "                    \"timestamp\": \"2025-07-26T06:57:55+0000\",\n",
      "                    \"like_count\": 1591,\n",
      "                    \"comments_count\": 19,\n",
      "                    \"media_url\": \"https://scontent.cdninstagram.com/v/t51.82787-15/523477565_18472318375072627_8149606894022811354_n.jpg?stp=dst-jpg_e35_tt6&_nc_cat=103&ccb=1-7&_nc_sid=18de74&_nc_ohc=XrQ-iQ4Eg_4Q7kNvwFLWXWJ&_nc_oc=AdnvZdXeEU9v8rcX5f08cgDjVOQMXN6D8_Cc0kXZz3JXDqHFwFQSysYLHws9mO0g_ooB4-enLgtWjLrQzQHleBOy&_nc_zt=23&_nc_ht=scontent.cdninstagram.com&edm=AL-3X8kEAAAA&_nc_gid=2f7z8mEip0fFjzMUn1XTVg&oh=00_AfTJ4oCz-_XPL3fYebnradnFlw9JOpJS7wV5i0v1tzTu6g&oe=689118CF\",\n",
      "                    \"permalink\": \"https://www.instagram.com/p/DMj9ATcoQjq/\",\n",
      "                    \"id\": \"18356773873158328\"\n",
      "                },\n",
      "                {\n",
      "                    \"media_type\": \"CAROUSEL_ALBUM\",\n",
      "                    \"media_product_type\": \"FEED\",\n",
      "                    \"timestamp\": \"2025-07-25T11:55:07+0000\",\n",
      "                    \"like_count\": 850,\n",
      "                    \"comments_count\": 6,\n",
      "                    \"media_url\": \"https://scontent.cdninstagram.com/v/t51.82787-15/523133654_18472184011072627_1475535627203908447_n.jpg?stp=dst-jpg_e35_tt6&_nc_cat=105&ccb=1-7&_nc_sid=18de74&_nc_ohc=yGLRK-oKQ5gQ7kNvwESVWNv&_nc_oc=Admv6L5bAC9rmjfdblAafLfsKyLNQv-xizBbVNsiwgJQrNL2CR1UoOxihrDEJxJdFPTzHRKvCmwDtBLhMX5Mg6am&_nc_zt=23&_nc_ht=scontent.cdninstagram.com&edm=AL-3X8kEAAAA&_nc_gid=2f7z8mEip0fFjzMUn1XTVg&oh=00_AfRHCeipN4Z0u9Apaa0qbdrC6eg4UEQ3dB1lKXlkagsXfA&oe=6890FDA7\",\n",
      "                    \"permalink\": \"https://www.instagram.com/p/DMh6OO9IQaF/\",\n",
      "                    \"id\": \"18072897311077147\"\n",
      "                },\n",
      "                {\n",
      "                    \"media_type\": \"IMAGE\",\n",
      "                    \"media_product_type\": \"FEED\",\n",
      "                    \"timestamp\": \"2025-07-25T05:54:19+0000\",\n",
      "                    \"like_count\": 1690,\n",
      "                    \"comments_count\": 9,\n",
      "                    \"media_url\": \"https://scontent.cdninstagram.com/v/t51.82787-15/523511886_18472148638072627_8804973440204633393_n.jpg?stp=dst-jpg_e35_tt6&_nc_cat=100&ccb=1-7&_nc_sid=18de74&_nc_ohc=7AjGSMKRuCkQ7kNvwH7DDHP&_nc_oc=AdlbqpzSoWxom4DtYY4kyOGkhsCmXgMnwsX4U-MTveBRLDOfOP7vhoHCML73XTynQ4WU8q-Kk7QlJ5aunY52Yxeg&_nc_zt=23&_nc_ht=scontent.cdninstagram.com&edm=AL-3X8kEAAAA&_nc_gid=2f7z8mEip0fFjzMUn1XTVg&oh=00_AfR9d3PVW4-gJmAQjp40IENEdbhaQOODeHPsZia7PVKF3w&oe=6890E881\",\n",
      "                    \"permalink\": \"https://www.instagram.com/p/DMhQ7rpoOMs/\",\n",
      "                    \"id\": \"18133153507433952\"\n",
      "                },\n",
      "                {\n",
      "                    \"thumbnail_url\": \"https://scontent.cdninstagram.com/v/t51.71878-15/522388301_2771220869753759_3789913871745886400_n.jpg?stp=dst-jpg_e35_tt6&_nc_cat=107&ccb=1-7&_nc_sid=18de74&_nc_ohc=ybmZXx7qekkQ7kNvwGTme7_&_nc_oc=AdlmBMs5TLhR_Fvxp_zBA3D2RnJxn1KKB5b0FmtqnFutT61LxCM1a9smxGH2FJfL6JxA9L_QNYicUKWhbK7ZBVo6&_nc_zt=23&_nc_ht=scontent.cdninstagram.com&edm=AL-3X8kEAAAA&_nc_gid=2f7z8mEip0fFjzMUn1XTVg&oh=00_AfRvlhQz9RnqMqAlHVm8nbNJn-xgmjWAJj3JIdEmh3MymA&oe=6890FBF9\",\n",
      "                    \"media_type\": \"VIDEO\",\n",
      "                    \"media_product_type\": \"REELS\",\n",
      "                    \"timestamp\": \"2025-07-24T18:46:24+0000\",\n",
      "                    \"like_count\": 345,\n",
      "                    \"comments_count\": 2,\n",
      "                    \"media_url\": \"https://instagram.fmnl13-3.fna.fbcdn.net/o1/v/t2/f2/m86/AQMQ_BEi36Eg_IKUyZcl4esYIzthZEGZxpl_qXJAlxs0MdlLDiKroE-0vENMyzf1xYbNg4l1y30gqhaKbwH-E7M2sBK7m8xOaFVck8w.mp4?_nc_cat=101&_nc_oc=AdmQPfAJ876VNX9vO9lTTOf_FmaUVtSkPIsIkNZtNcrDuEGKleSDUeoMBcAdvmOdf-rrjAhKsA-L2bwPaKxR_RTZ&_nc_sid=5e9851&_nc_ht=instagram.fmnl13-3.fna.fbcdn.net&_nc_ohc=LcAvcNRHoC0Q7kNvwHaKWhE&efg=eyJ2ZW5jb2RlX3RhZyI6Inhwdl9wcm9ncmVzc2l2ZS5JTlNUQUdSQU0uQ0xJUFMuQzMuNzIwLmRhc2hfYmFzZWxpbmVfMV92MSIsInhwdl9hc3NldF9pZCI6NjAzNDE2NzkyNTkxMzI2LCJ2aV91c2VjYXNlX2lkIjoxMDA5OSwiZHVyYXRpb25fcyI6OSwidXJsZ2VuX3NvdXJjZSI6Ind3dyJ9&ccb=17-1&vs=188122dfc1712ad4&_nc_vs=HBkcFQIYUmlnX3hwdl9yZWVsc19wZXJtYW5lbnRfc3JfcHJvZC81QjQ5NEZBRkE2RDFBRDIwQkY2NDU3OTZGNDlERjM5OF92aWRlb19kYXNoaW5pdC5tcDQVAALIARIAKAAYABsCiAd1c2Vfb2lsATEScHJvZ3Jlc3NpdmVfcmVjaXBlATEVAAAmvK-Xub2zkgIVAigCQzMsF0AjIcrAgxJvGBJkYXNoX2Jhc2VsaW5lXzFfdjERAHX-B2XmnQEA&_nc_zt=28&oh=00_AfR_luCvfdpeSeVt4Qk2OQZU2zOJyQc3lG1U5T3pp878Nw&oe=688CFB7A\",\n",
      "                    \"permalink\": \"https://www.instagram.com/reel/DMgEKp9oQP5/\",\n",
      "                    \"id\": \"17916308613140347\"\n",
      "                },\n",
      "                {\n",
      "                    \"media_type\": \"IMAGE\",\n",
      "                    \"media_product_type\": \"FEED\",\n",
      "                    \"timestamp\": \"2025-07-24T06:02:47+0000\",\n",
      "                    \"like_count\": 2677,\n",
      "                    \"comments_count\": 23,\n",
      "                    \"media_url\": \"https://scontent.cdninstagram.com/v/t51.82787-15/522660876_18471993508072627_6580714421651211898_n.jpg?stp=dst-jpg_e35_tt6&_nc_cat=104&ccb=1-7&_nc_sid=18de74&_nc_ohc=rT0_dvdmHSwQ7kNvwEsE2kM&_nc_oc=Adn1Ev1s1y4iZBoxfR3NnRYnbqeD5NO9S_9GWcB2ydMp3ahHUdiWzsDhYdT5Pgdz_qvCcmkoHzo80nlb8wh7fF0w&_nc_zt=23&_nc_ht=scontent.cdninstagram.com&edm=AL-3X8kEAAAA&_nc_gid=2f7z8mEip0fFjzMUn1XTVg&oh=00_AfTLL40O8h7RZFr2AjgjsYoQoSrxhev-xBkJHkQnV4cmYw&oe=6890E69C\",\n",
      "                    \"permalink\": \"https://www.instagram.com/p/DMetGvnoILn/\",\n",
      "                    \"id\": \"18091861879635930\"\n",
      "                },\n",
      "                {\n",
      "                    \"media_type\": \"CAROUSEL_ALBUM\",\n",
      "                    \"media_product_type\": \"FEED\",\n",
      "                    \"timestamp\": \"2025-07-23T10:25:44+0000\",\n",
      "                    \"like_count\": 947,\n",
      "                    \"comments_count\": 19,\n",
      "                    \"media_url\": \"https://scontent.cdninstagram.com/v/t51.82787-15/523767033_18471864736072627_3002591392999906579_n.jpg?stp=dst-jpg_e35_tt6&_nc_cat=109&ccb=1-7&_nc_sid=18de74&_nc_ohc=51MBJhYCX9gQ7kNvwGxXr4k&_nc_oc=Adk02z0jyw0HQLxzplieDy6IJzWR9Hf16_FEL0bJkT-A91P3koTsKaezbSGMcOouE3R5jApHWunMklpeHtDfLc4A&_nc_zt=23&_nc_ht=scontent.cdninstagram.com&edm=AL-3X8kEAAAA&_nc_gid=2f7z8mEip0fFjzMUn1XTVg&oh=00_AfQ90Y4-A095GVkMXKhdnDrsDePi_s9woByF7IgcAUQG1Q&oe=6891008F\",\n",
      "                    \"permalink\": \"https://www.instagram.com/p/DMcmZ0OIh_Z/\",\n",
      "                    \"id\": \"17864280363430870\"\n",
      "                },\n",
      "                {\n",
      "                    \"media_type\": \"IMAGE\",\n",
      "                    \"media_product_type\": \"FEED\",\n",
      "                    \"timestamp\": \"2025-07-23T05:20:08+0000\",\n",
      "                    \"like_count\": 855,\n",
      "                    \"comments_count\": 26,\n",
      "                    \"media_url\": \"https://scontent.cdninstagram.com/v/t51.82787-15/521430226_18471834526072627_1952981133773407765_n.jpg?stp=dst-jpg_e35_tt6&_nc_cat=110&ccb=1-7&_nc_sid=18de74&_nc_ohc=XfTS-YWjC4MQ7kNvwEHvGW8&_nc_oc=AdlEa-GHnWDUq8Os7B9KwiAkCgktO69-kho66fh1GI3BZ8Y2kPVwstTM-CLmBhwFBhkMfC9aRzwgnswjXeJju4MP&_nc_zt=23&_nc_ht=scontent.cdninstagram.com&edm=AL-3X8kEAAAA&_nc_gid=2f7z8mEip0fFjzMUn1XTVg&oh=00_AfTeq-x1bbaXSq3IV0DuVibmpFynIP0zWB4-7Wlqkoqflg&oe=6890EEBF\",\n",
      "                    \"permalink\": \"https://www.instagram.com/p/DMcDbjHI6-7/\",\n",
      "                    \"id\": \"18099143566596204\"\n",
      "                },\n",
      "                {\n",
      "                    \"media_type\": \"IMAGE\",\n",
      "                    \"media_product_type\": \"FEED\",\n",
      "                    \"timestamp\": \"2025-07-22T12:21:11+0000\",\n",
      "                    \"like_count\": 395,\n",
      "                    \"comments_count\": 2,\n",
      "                    \"media_url\": \"https://scontent.cdninstagram.com/v/t51.82787-15/521941240_18471714115072627_865921697514236318_n.jpg?stp=dst-jpg_e35_tt6&_nc_cat=111&ccb=1-7&_nc_sid=18de74&_nc_ohc=F0O52Dp9pjsQ7kNvwEkh_Kc&_nc_oc=Adn6eNafx2VzqMLGTba18-rcCW1dVSHq-AaQ6NIJM561X9Tf3hTU-BkrwfbFySXYh2JU0ceEniRU5HfoSEAZwwCk&_nc_zt=23&_nc_ht=scontent.cdninstagram.com&edm=AL-3X8kEAAAA&_nc_gid=2f7z8mEip0fFjzMUn1XTVg&oh=00_AfSVXRWnM0tozrexMSz9wea8_9FvN9f33SjLAXnJz3rX5g&oe=6890FAF6\",\n",
      "                    \"permalink\": \"https://www.instagram.com/p/DMaO0globVS/\",\n",
      "                    \"id\": \"18033094952466718\"\n",
      "                },\n",
      "                {\n",
      "                    \"media_type\": \"IMAGE\",\n",
      "                    \"media_product_type\": \"FEED\",\n",
      "                    \"timestamp\": \"2025-07-22T05:59:40+0000\",\n",
      "                    \"like_count\": 2563,\n",
      "                    \"comments_count\": 35,\n",
      "                    \"media_url\": \"https://scontent.cdninstagram.com/v/t51.82787-15/522206558_18471674269072627_5092814114210408643_n.jpg?stp=dst-jpg_e35_tt6&_nc_cat=104&ccb=1-7&_nc_sid=18de74&_nc_ohc=xEsGs4LPlkcQ7kNvwE4HWlj&_nc_oc=AdkeQ9aG-IkfgGaNXloQYRbPtN4UwkVoztnNb_Ac6m3ZwS0p2A8SxB4BKWaE7qzm8hiEUkZni32WfnsUzmfhkqqy&_nc_zt=23&_nc_ht=scontent.cdninstagram.com&edm=AL-3X8kEAAAA&_nc_gid=2f7z8mEip0fFjzMUn1XTVg&oh=00_AfS-tNfmVZqWGZNWnpgqx4YQznSiBfXo6YnBx7ejStLdcw&oe=6890ED97\",\n",
      "                    \"permalink\": \"https://www.instagram.com/p/DMZjKKLI13l/\",\n",
      "                    \"id\": \"18070572640862235\"\n",
      "                },\n",
      "                {\n",
      "                    \"media_type\": \"CAROUSEL_ALBUM\",\n",
      "                    \"media_product_type\": \"FEED\",\n",
      "                    \"timestamp\": \"2025-07-21T13:29:43+0000\",\n",
      "                    \"like_count\": 3255,\n",
      "                    \"comments_count\": 27,\n",
      "                    \"media_url\": \"https://scontent.cdninstagram.com/v/t51.82787-15/522877771_18471567595072627_906448167665415108_n.jpg?stp=dst-jpg_e35_tt6&_nc_cat=106&ccb=1-7&_nc_sid=18de74&_nc_ohc=nw8iaAbS6WgQ7kNvwEyDlFI&_nc_oc=AdlY0FCLLT5vMH_UjbkYKkTFDnoK2H7U3oWbIIp0PNQW0GfCYPm3xgRuEGhZYgF7mFDCl_1BZ0C0m0ouNTfKNlTf&_nc_zt=23&_nc_ht=scontent.cdninstagram.com&edm=AL-3X8kEAAAA&_nc_gid=2f7z8mEip0fFjzMUn1XTVg&oh=00_AfSTYgVrWxknMRaUUE5lisqKXNVNPJu6o2q2rmQRx11IJQ&oe=6890FDDA\",\n",
      "                    \"permalink\": \"https://www.instagram.com/p/DMXx3onI7AU/\",\n",
      "                    \"id\": \"18013286984758055\"\n",
      "                },\n",
      "                {\n",
      "                    \"media_type\": \"IMAGE\",\n",
      "                    \"media_product_type\": \"FEED\",\n",
      "                    \"timestamp\": \"2025-07-21T06:29:39+0000\",\n",
      "                    \"like_count\": 2355,\n",
      "                    \"comments_count\": 17,\n",
      "                    \"media_url\": \"https://scontent.cdninstagram.com/v/t51.82787-15/522663329_18471519616072627_8611023408329534658_n.jpg?stp=dst-jpg_e35_tt6&_nc_cat=111&ccb=1-7&_nc_sid=18de74&_nc_ohc=4KjPRVayyhYQ7kNvwFb69ZM&_nc_oc=Adn11FjNPkK0FIUEJXX6osfr_wyycJDENlD7WwFiQscj6BB0w09iU0_eKAQhExyO84wKFCC_kSQdgU4zUAkgc6NY&_nc_zt=23&_nc_ht=scontent.cdninstagram.com&edm=AL-3X8kEAAAA&_nc_gid=2f7z8mEip0fFjzMUn1XTVg&oh=00_AfR3-qrTn52LIeY9woQnW5Xvw4NYOF3Cm_tfK9Reb4vauA&oe=68910AA6\",\n",
      "                    \"permalink\": \"https://www.instagram.com/p/DMXBy6_ob0K/\",\n",
      "                    \"id\": \"18120193963486985\"\n",
      "                },\n",
      "                {\n",
      "                    \"media_type\": \"IMAGE\",\n",
      "                    \"media_product_type\": \"FEED\",\n",
      "                    \"timestamp\": \"2025-07-20T07:17:57+0000\",\n",
      "                    \"like_count\": 1614,\n",
      "                    \"comments_count\": 27,\n",
      "                    \"media_url\": \"https://scontent.cdninstagram.com/v/t51.82787-15/521526439_18471357946072627_8187378972463060351_n.jpg?stp=dst-jpg_e35_tt6&_nc_cat=100&ccb=1-7&_nc_sid=18de74&_nc_ohc=ki01RmggMUEQ7kNvwHdIKfy&_nc_oc=AdlebWETYHld9nswVKVoV1IRoPK4ZG0BlbFgUcC_MtuC_bxmJtySR-6Pp2Go9WlAqxyk6na-3sy3_G9mNh6xWfcB&_nc_zt=23&_nc_ht=scontent.cdninstagram.com&edm=AL-3X8kEAAAA&_nc_gid=2f7z8mEip0fFjzMUn1XTVg&oh=00_AfRPnIVNlBRyrZXwacm-zVn3KP9LA_oaVgQS3upXG1yfkA&oe=6890F8B1\",\n",
      "                    \"permalink\": \"https://www.instagram.com/p/DMUih15oh39/\",\n",
      "                    \"id\": \"18073304783068678\"\n",
      "                },\n",
      "                {\n",
      "                    \"media_type\": \"IMAGE\",\n",
      "                    \"media_product_type\": \"FEED\",\n",
      "                    \"timestamp\": \"2025-07-19T07:17:53+0000\",\n",
      "                    \"like_count\": 6331,\n",
      "                    \"comments_count\": 51,\n",
      "                    \"media_url\": \"https://scontent.cdninstagram.com/v/t51.82787-15/519117207_18471194656072627_4320772173250793100_n.jpg?stp=dst-jpg_e35_tt6&_nc_cat=106&ccb=1-7&_nc_sid=18de74&_nc_ohc=0tmFcEYQ8yQQ7kNvwGqJ442&_nc_oc=Adl9NNyET-V5fQrbZmKLulM9RVc8zS_lJaHPxL0AiGREyYegjRg4GBm1arks7iLJd5uyHjCLGT4Olj74zelm0A4Z&_nc_zt=23&_nc_ht=scontent.cdninstagram.com&edm=AL-3X8kEAAAA&_nc_gid=2f7z8mEip0fFjzMUn1XTVg&oh=00_AfTZ7zfceYf8xJxr-5jO-hhFeD1WXXLDj8T-Wu-tuEChyw&oe=689102A6\",\n",
      "                    \"permalink\": \"https://www.instagram.com/p/DMR9uhAo-3C/\",\n",
      "                    \"id\": \"18180790561330561\"\n",
      "                },\n",
      "                {\n",
      "                    \"media_type\": \"IMAGE\",\n",
      "                    \"media_product_type\": \"FEED\",\n",
      "                    \"timestamp\": \"2025-07-18T13:25:46+0000\",\n",
      "                    \"like_count\": 757,\n",
      "                    \"comments_count\": 3,\n",
      "                    \"media_url\": \"https://scontent.cdninstagram.com/v/t51.82787-15/520211667_18471077227072627_6268266296809024675_n.jpg?stp=dst-jpg_e35_tt6&_nc_cat=106&ccb=1-7&_nc_sid=18de74&_nc_ohc=9kla6Qygrm0Q7kNvwEmC5UB&_nc_oc=Adk9TtxQ_wTuxzlrND2qPqqYXboeTvjJfIKqjwt6cANdS5juB-B_pz0vtKIQ-yIA5mbrbLwYJPXHtqh2dp5eZ_W_&_nc_zt=23&_nc_ht=scontent.cdninstagram.com&edm=AL-3X8kEAAAA&_nc_gid=2f7z8mEip0fFjzMUn1XTVg&oh=00_AfSokb52k-qE7XFc3VTN-UpDaG8xlVLjQ2k7Knz-Or0gDQ&oe=6890F7B6\",\n",
      "                    \"permalink\": \"https://www.instagram.com/p/DMQDCGTI2cL/\",\n",
      "                    \"id\": \"17946424442882615\"\n",
      "                },\n",
      "                {\n",
      "                    \"media_type\": \"IMAGE\",\n",
      "                    \"media_product_type\": \"FEED\",\n",
      "                    \"timestamp\": \"2025-07-18T06:20:15+0000\",\n",
      "                    \"like_count\": 837,\n",
      "                    \"comments_count\": 9,\n",
      "                    \"media_url\": \"https://scontent.cdninstagram.com/v/t51.82787-15/519917282_18471029113072627_509142115436504482_n.jpg?stp=dst-jpg_e35_tt6&_nc_cat=110&ccb=1-7&_nc_sid=18de74&_nc_ohc=gD5f_G-6_4gQ7kNvwH6YYbf&_nc_oc=AdmjG-SjSEqZpl0uTlWYFygfUQWlTZzmkPyqr_HuUv9Isv7RUkxkGX2k_Q3vUw4uKtI30TAjyUrjG7iU4WnUSsob&_nc_zt=23&_nc_ht=scontent.cdninstagram.com&edm=AL-3X8kEAAAA&_nc_gid=2f7z8mEip0fFjzMUn1XTVg&oh=00_AfQIYnH4_DjB21L7M5qkQZYEGJYZSGejYPPWjdL4BtIbZg&oe=6890F124\",\n",
      "                    \"permalink\": \"https://www.instagram.com/p/DMPSVesIJR6/\",\n",
      "                    \"id\": \"17876044062374937\"\n",
      "                },\n",
      "                {\n",
      "                    \"media_type\": \"IMAGE\",\n",
      "                    \"media_product_type\": \"FEED\",\n",
      "                    \"timestamp\": \"2025-07-17T06:11:00+0000\",\n",
      "                    \"like_count\": 1286,\n",
      "                    \"comments_count\": 8,\n",
      "                    \"media_url\": \"https://scontent.cdninstagram.com/v/t51.82787-15/520217701_18470868868072627_5496681551419280028_n.jpg?stp=dst-jpg_e35_tt6&_nc_cat=110&ccb=1-7&_nc_sid=18de74&_nc_ohc=KDOCPYdJNDQQ7kNvwE3sWSl&_nc_oc=AdmYgTpaJ76ry2v-_DwHUlUUpg0FpTJ4h_1CoFZsAsWv6KPs1NRm5PUVxcWArQb-n1QhR7paIa_pxCcg8I9ZfZh4&_nc_zt=23&_nc_ht=scontent.cdninstagram.com&edm=AL-3X8kEAAAA&_nc_gid=2f7z8mEip0fFjzMUn1XTVg&oh=00_AfSl8xEenuIJXo2WBGlttMXaVZQchkFffHJnlUflr7KcOA&oe=6890F974\",\n",
      "                    \"permalink\": \"https://www.instagram.com/p/DMMse5UIdXe/\",\n",
      "                    \"id\": \"18016598051731891\"\n",
      "                },\n",
      "                {\n",
      "                    \"media_type\": \"IMAGE\",\n",
      "                    \"media_product_type\": \"FEED\",\n",
      "                    \"timestamp\": \"2025-07-16T07:09:47+0000\",\n",
      "                    \"like_count\": 1308,\n",
      "                    \"comments_count\": 16,\n",
      "                    \"media_url\": \"https://scontent.cdninstagram.com/v/t51.82787-15/520252840_18470718481072627_5087223989043676534_n.jpg?stp=dst-jpg_e35_tt6&_nc_cat=108&ccb=1-7&_nc_sid=18de74&_nc_ohc=qZZG1IJtAM0Q7kNvwG8DJeI&_nc_oc=Adl4KWHJAS-ybJG-YdsZ2acACCuUklyOR8Y9HFmBedd4dDSVZao-c2t3Q5qXcwjt2x83v13fY2CNxAWbmBo1Cpcq&_nc_zt=23&_nc_ht=scontent.cdninstagram.com&edm=AL-3X8kEAAAA&_nc_gid=2f7z8mEip0fFjzMUn1XTVg&oh=00_AfQaI0844gkzKU3crNLaWOoY-SbiOnLJJQ93F_3ZGgFhUg&oe=6890EBF8\",\n",
      "                    \"permalink\": \"https://www.instagram.com/p/DMKOadqoYhh/\",\n",
      "                    \"id\": \"18308147848300756\"\n",
      "                },\n",
      "                {\n",
      "                    \"media_type\": \"CAROUSEL_ALBUM\",\n",
      "                    \"media_product_type\": \"FEED\",\n",
      "                    \"timestamp\": \"2025-07-15T14:59:38+0000\",\n",
      "                    \"like_count\": 885,\n",
      "                    \"comments_count\": 13,\n",
      "                    \"media_url\": \"https://scontent.cdninstagram.com/v/t51.82787-15/519000918_18470615206072627_1330732922280782126_n.jpg?stp=dst-jpg_e35_tt6&_nc_cat=111&ccb=1-7&_nc_sid=18de74&_nc_ohc=8c5qtF8pt1sQ7kNvwGGJdUZ&_nc_oc=AdmH-m4_cQpd7euihTUbpUkusmXfaDNacguaEjM760SRHBJQTnecVARpudE4yf_slcFscbKz5paag37eQtiZ6eGn&_nc_zt=23&_nc_ht=scontent.cdninstagram.com&edm=AL-3X8kEAAAA&_nc_gid=2f7z8mEip0fFjzMUn1XTVg&oh=00_AfS6CP1PWZ5cO3bzNIaHUA1NYPoxDUzu8IvzpdpLsosM7A&oe=68910F6E\",\n",
      "                    \"permalink\": \"https://www.instagram.com/p/DMIfY97oFrB/\",\n",
      "                    \"id\": \"18083872342839724\"\n",
      "                },\n",
      "                {\n",
      "                    \"media_type\": \"IMAGE\",\n",
      "                    \"media_product_type\": \"FEED\",\n",
      "                    \"timestamp\": \"2025-07-15T07:06:07+0000\",\n",
      "                    \"like_count\": 1923,\n",
      "                    \"comments_count\": 29,\n",
      "                    \"media_url\": \"https://scontent.cdninstagram.com/v/t51.82787-15/518993589_18470560924072627_910713522206617226_n.jpg?stp=dst-jpg_e35_tt6&_nc_cat=104&ccb=1-7&_nc_sid=18de74&_nc_ohc=boVNfhz5pxAQ7kNvwEHu1ze&_nc_oc=Adm6YyVcQZ8B5VsMhsnALjSdtf0qeNWOX2URuSMw54bT_tDJzJPhGpLp5tAlCAPIJOUZyjPAXdgnaFAQZrD8INWi&_nc_zt=23&_nc_ht=scontent.cdninstagram.com&edm=AL-3X8kEAAAA&_nc_gid=2f7z8mEip0fFjzMUn1XTVg&oh=00_AfQprwqRIFdjEcQezmSZs7QAhbCYmb-mR1fygiE_UFWNZA&oe=6890E7C9\",\n",
      "                    \"permalink\": \"https://www.instagram.com/p/DMHpMwxoXwW/\",\n",
      "                    \"id\": \"18091503355559770\"\n",
      "                },\n",
      "                {\n",
      "                    \"media_type\": \"IMAGE\",\n",
      "                    \"media_product_type\": \"FEED\",\n",
      "                    \"timestamp\": \"2025-07-14T07:12:14+0000\",\n",
      "                    \"like_count\": 1544,\n",
      "                    \"comments_count\": 25,\n",
      "                    \"media_url\": \"https://scontent.cdninstagram.com/v/t51.82787-15/518875433_18470400856072627_8173419476527052425_n.jpg?stp=dst-jpg_e35_tt6&_nc_cat=108&ccb=1-7&_nc_sid=18de74&_nc_ohc=zJcyp6EbrvEQ7kNvwGCS3Ik&_nc_oc=AdlzS8GMiZvjeSNwSOKhJHSSaVGOIv5RopWvA4Mckr0V6T2ZugvIN1aXZtnj9rpCPmTJaJ2wXB7wCss_DViA4EIr&_nc_zt=23&_nc_ht=scontent.cdninstagram.com&edm=AL-3X8kEAAAA&_nc_gid=2f7z8mEip0fFjzMUn1XTVg&oh=00_AfT4sqRh5lb9XoAuuKVelsY-K2d0RN2CxqLQelaJbslkiA&oe=6890F10F\",\n",
      "                    \"permalink\": \"https://www.instagram.com/p/DMFFGspIixB/\",\n",
      "                    \"id\": \"18305729641175774\"\n",
      "                },\n",
      "                {\n",
      "                    \"media_type\": \"IMAGE\",\n",
      "                    \"media_product_type\": \"FEED\",\n",
      "                    \"timestamp\": \"2025-07-13T07:34:49+0000\",\n",
      "                    \"like_count\": 3572,\n",
      "                    \"comments_count\": 33,\n",
      "                    \"media_url\": \"https://scontent.cdninstagram.com/v/t51.82787-15/518963156_18470243404072627_4636412679941035769_n.jpg?stp=dst-jpg_e35_tt6&_nc_cat=103&ccb=1-7&_nc_sid=18de74&_nc_ohc=dxpDCn5lobAQ7kNvwGjJNnh&_nc_oc=Adm5wUpsLV1qTnMm0QMOwnmtUbNiw6rcBqJJ1PIp80VjQ6IBkYJRqyt9LsUDga8wtr6hkVQFkr_d0H0HxlY363np&_nc_zt=23&_nc_ht=scontent.cdninstagram.com&edm=AL-3X8kEAAAA&_nc_gid=2f7z8mEip0fFjzMUn1XTVg&oh=00_AfR4-rb2mDRfj-7nwuV-INjpNQTpyO09tcQggI9_rznn_g&oe=6890FE64\",\n",
      "                    \"permalink\": \"https://www.instagram.com/p/DMCi5M-IaCe/\",\n",
      "                    \"id\": \"17934285938939305\"\n",
      "                },\n",
      "                {\n",
      "                    \"media_type\": \"IMAGE\",\n",
      "                    \"media_product_type\": \"FEED\",\n",
      "                    \"timestamp\": \"2025-07-12T07:03:22+0000\",\n",
      "                    \"like_count\": 600,\n",
      "                    \"comments_count\": 21,\n",
      "                    \"media_url\": \"https://scontent.cdninstagram.com/v/t51.82787-15/518723439_18470078977072627_2203391197135684056_n.jpg?stp=dst-jpg_e35_tt6&_nc_cat=109&ccb=1-7&_nc_sid=18de74&_nc_ohc=6FUjYOQ5csAQ7kNvwH4md6Z&_nc_oc=Adnh3GCc2wOqgDV8bqRaomOYhN_sXGFYljpfrBMNmAbydif-HmibyRneKdw6vMo6FVSyjk0UaswTN45b1fC1Gh36&_nc_zt=23&_nc_ht=scontent.cdninstagram.com&edm=AL-3X8kEAAAA&_nc_gid=2f7z8mEip0fFjzMUn1XTVg&oh=00_AfTaLVMHb2_vqSGZFzQqthkUxVykWUSVJSAb9YT8Q72HJQ&oe=6890F748\",\n",
      "                    \"permalink\": \"https://www.instagram.com/p/DL_6gCgI89J/\",\n",
      "                    \"id\": \"17927800229964120\"\n",
      "                }\n",
      "            ],\n",
      "            \"paging\": {\n",
      "                \"cursors\": {\n",
      "                    \"before\": \"QVFGbVloTEJ5TzE0QnVacklHQ1ZA6U1hNUER6ZAk5VdGhuWllpSkFrSkFJWHhWYzJISzZAuVEtDZAktZAdGFQb0cwRlBneFBqeEhrZAHI5TXNlNkhKZAENsRE9YQkdn\",\n",
      "                    \"after\": \"QVFGbWdaY2hZAR2JGM3RVa25TM3JON1VGMWR4dGZAQbHVZAVG1sZADNFek5QRUNjaWgyTEd2eHhick1QODNxQnduUnd5UmJ4M1Rlb1UtMjhtMThtWFp3b1pNMlZAn\"\n",
      "                }\n",
      "            }\n",
      "        },\n",
      "        \"id\": \"17841402178792716\"\n",
      "    },\n",
      "    \"id\": \"17841476287277831\"\n",
      "}\n"
     ]
    }
   ],
   "source": [
    "required_param = \"{media.after(\" + after_code + \"){thumbnail_url,media_type,media_product_type,timestamp,like_count,comments_count,media_url,permalink}}\"\n",
    "url = f\"https://graph.facebook.com/v19.0/{ig_user_id}?fields=business_discovery.username({ig_username}){required_param}&access_token={long_access_token}\"\n",
    "response = requests.get(url)\n",
    "metadata = response.json()\n",
    "print(json.dumps(metadata, indent=4))"
   ]
  },
  {
   "cell_type": "code",
   "execution_count": null,
   "id": "1bcfc6d0",
   "metadata": {},
   "outputs": [],
   "source": []
  }
 ],
 "metadata": {
  "kernelspec": {
   "display_name": "venv",
   "language": "python",
   "name": "python3"
  },
  "language_info": {
   "codemirror_mode": {
    "name": "ipython",
    "version": 3
   },
   "file_extension": ".py",
   "mimetype": "text/x-python",
   "name": "python",
   "nbconvert_exporter": "python",
   "pygments_lexer": "ipython3",
   "version": "3.12.1"
  }
 },
 "nbformat": 4,
 "nbformat_minor": 5
}
