{
 "cells": [
  {
   "cell_type": "code",
   "execution_count": 1,
   "id": "e94598f8",
   "metadata": {},
   "outputs": [],
   "source": [
    "import requests\n",
    "import json\n",
    "import os\n",
    "from dotenv import load_dotenv"
   ]
  },
  {
   "cell_type": "markdown",
   "id": "0fc0d67e",
   "metadata": {},
   "source": [
    "## Config Meta App + Instagram Variables"
   ]
  },
  {
   "cell_type": "code",
   "execution_count": 2,
   "id": "804f0731",
   "metadata": {},
   "outputs": [],
   "source": [
    "load_dotenv()\n",
    "\n",
    "ig_user_id = os.getenv(\"IG_USER_ID\")\n",
    "app_id = os.getenv(\"APP_ID\")\n",
    "app_secret = os.getenv(\"APP_SECRET\")\n",
    "user_access_token = os.getenv(\"USER_ACCESS_TOKEN\")"
   ]
  },
  {
   "cell_type": "code",
   "execution_count": null,
   "id": "eb18235d",
   "metadata": {},
   "outputs": [],
   "source": [
    "# https://graph.facebook.com/v19.0/oauth/access_token\n",
    "# ?grant_type=fb_exchange_token\n",
    "# &client_id={app_id}\n",
    "# &client_secret={app_secret}\n",
    "# &fb_exchange_token={user_access_token}"
   ]
  },
  {
   "cell_type": "markdown",
   "id": "68f7102f",
   "metadata": {},
   "source": [
    "## Get Long Access Token"
   ]
  },
  {
   "cell_type": "code",
   "execution_count": 3,
   "id": "d27ab738",
   "metadata": {},
   "outputs": [
    {
     "data": {
      "text/plain": [
       "'EAAYMUDcHYToBPFD5XHPlsIFNMapl4UrnUv063KlqzA6B1VSuLZAe80QzSZCaxL9BUbiKqJ7dq0KBcco4m0Tm7xEckFZB9ztdwLvKawxm8vz7LrOAdL3Dm3r0oT4yUvzxEbXnv7vL2xhCCYktMsQhXjnmuE7OAmbMUmeFfm3BfgLZC7MaoSpFZBKq5Quv2'"
      ]
     },
     "execution_count": 3,
     "metadata": {},
     "output_type": "execute_result"
    }
   ],
   "source": [
    "url = f\"https://graph.facebook.com/v19.0/oauth/access_token?grant_type=fb_exchange_token&client_id={app_id}&client_secret={app_secret}&fb_exchange_token={user_access_token}\"\n",
    "response = requests.get(url)\n",
    "#print(response.content)\n",
    "long_access_token = response.json()[\"access_token\"]\n",
    "long_access_token"
   ]
  },
  {
   "cell_type": "markdown",
   "id": "b05a7431",
   "metadata": {},
   "source": [
    "## Test API"
   ]
  },
  {
   "cell_type": "code",
   "execution_count": null,
   "id": "acb505b2",
   "metadata": {},
   "outputs": [],
   "source": [
    "\"https://graph.facebook.com/v23.0/17841405309211844 \\\n",
    "  ?fields=business_discovery.username(bluebottle){followers_count,media_count} \\\n",
    "  &access_token=<YOUR_APP_USERS_INSTAGRAM_USER_ACCESS_TOKEN>\""
   ]
  },
  {
   "cell_type": "code",
   "execution_count": null,
   "id": "6d9ec303",
   "metadata": {},
   "outputs": [],
   "source": [
    "# Get account details\n",
    "username=\"jestestbusiness\"\n",
    "required_param = \"{followers_count,media_count}\"\n",
    "url = f\"https://graph.facebook.com/v19.0/{ig_user_id}?fields=business_discovery.username({username}){required_param}&access_token={long_access_token}\"\n",
    "response = requests.get(url)\n",
    "metadata= response.json()\n",
    "followers_count = metadata[\"business_discovery\"][\"followers_count\"]\n",
    "media_count = metadata[\"business_discovery\"][\"media_count\"]\n",
    "print(json.dumps(metadata, indent=4))"
   ]
  },
  {
   "cell_type": "markdown",
   "id": "c9782fcb",
   "metadata": {},
   "source": [
    "### Check User Page (Does not work on Private Accounts)"
   ]
  },
  {
   "cell_type": "code",
   "execution_count": 8,
   "id": "9d885771",
   "metadata": {},
   "outputs": [],
   "source": [
    "ig_username = \"theforgottenwan_\"\n",
    "required_param = \"{name,website,biography,followers_count,follows_count,media_count,profile_picture_url,media.limit(5){thumbnail_url,media_type,media_product_type,timestamp,like_count,comments_count,media_url,permalink}}\""
   ]
  },
  {
   "cell_type": "code",
   "execution_count": 9,
   "id": "088cf89a",
   "metadata": {},
   "outputs": [
    {
     "name": "stdout",
     "output_type": "stream",
     "text": [
      "{\n",
      "    \"business_discovery\": {\n",
      "        \"name\": \"ImJustNobody\",\n",
      "        \"followers_count\": 2,\n",
      "        \"follows_count\": 708,\n",
      "        \"media_count\": 0,\n",
      "        \"profile_picture_url\": \"https://scontent.fmnl13-4.fna.fbcdn.net/v/t51.2885-15/412496631_749883563827902_8239433423865633342_n.jpg?_nc_cat=108&ccb=1-7&_nc_sid=7d201b&_nc_ohc=QWsq7UrPwCUQ7kNvwHj0jnj&_nc_oc=Adl1S5HBHXNc71lshEXa1ZVPQBZP9Pk1iJqNZDOBgaQCJKauBTqdxsvWG_fs_J2ZOC6tAYmL2ooyITojXHTsz839&_nc_zt=23&_nc_ht=scontent.fmnl13-4.fna&edm=AL-3X8kEAAAA&oh=00_AfSTIOBhp_ay7ojn5KM88neV26CvhSuQ5V2ZSXgfXuyBQA&oe=689268A5\",\n",
      "        \"id\": \"17841414524839587\"\n",
      "    },\n",
      "    \"id\": \"17841476287277831\"\n",
      "}\n"
     ]
    }
   ],
   "source": [
    "url = f\"https://graph.facebook.com/v19.0/{ig_user_id}?fields=business_discovery.username({ig_username}){required_param}&access_token={long_access_token}\"\n",
    "response = requests.get(url)\n",
    "metadata = response.json()\n",
    "print(json.dumps(metadata, indent=4))"
   ]
  },
  {
   "cell_type": "markdown",
   "id": "37738478",
   "metadata": {},
   "source": [
    "### Download a Post and Thumbnail"
   ]
  },
  {
   "cell_type": "code",
   "execution_count": null,
   "id": "985a8588",
   "metadata": {},
   "outputs": [],
   "source": [
    "first_post_link = metadata[\"business_discovery\"][\"media\"][\"data\"][0][\"media_url\"]\n",
    "print(f\"Media URL : {first_post_link} \\n\")\n",
    "first_post_thumbnail_link = metadata[\"business_discovery\"][\"media\"][\"data\"][0][\"thumbnail_url\"]\n",
    "print(f\"Media Thumbnail URL : {first_post_thumbnail_link}\")"
   ]
  },
  {
   "cell_type": "code",
   "execution_count": null,
   "id": "bcdeaaca",
   "metadata": {},
   "outputs": [],
   "source": [
    "os.makedirs(\"./temp\", exist_ok=True)\n",
    "\n",
    "response = requests.get(first_post_link)\n",
    "with open (\"./temp/first_post.mp4\", \"wb\") as f:\n",
    "    f.write(response.content)"
   ]
  },
  {
   "cell_type": "code",
   "execution_count": null,
   "id": "30fa4253",
   "metadata": {},
   "outputs": [],
   "source": [
    "response = requests.get(first_post_thumbnail_link)\n",
    "with open (\"./temp/first_post_thumbnail_link.jpg\", \"wb\") as f:\n",
    "    f.write(response.content)"
   ]
  },
  {
   "cell_type": "markdown",
   "id": "74a8dbb3",
   "metadata": {},
   "source": [
    "### Pagination"
   ]
  },
  {
   "cell_type": "code",
   "execution_count": null,
   "id": "95b48b96",
   "metadata": {},
   "outputs": [],
   "source": [
    "{media.limit(1).after(your_after_code){your_fields_by_comma_separation}}"
   ]
  },
  {
   "cell_type": "code",
   "execution_count": null,
   "id": "ac66aa03",
   "metadata": {},
   "outputs": [],
   "source": [
    "after_code = metadata[\"business_discovery\"][\"media\"][\"paging\"][\"cursors\"][\"after\"]\n",
    "after_code"
   ]
  },
  {
   "cell_type": "code",
   "execution_count": null,
   "id": "e76cf1d1",
   "metadata": {},
   "outputs": [],
   "source": [
    "required_param = \"{media.after(\" + after_code + \"){thumbnail_url,media_type,media_product_type,timestamp,like_count,comments_count,media_url,permalink}}\"\n",
    "url = f\"https://graph.facebook.com/v19.0/{ig_user_id}?fields=business_discovery.username({ig_username}){required_param}&access_token={long_access_token}\"\n",
    "response = requests.get(url)\n",
    "metadata = response.json()\n",
    "print(json.dumps(metadata, indent=4))"
   ]
  },
  {
   "cell_type": "markdown",
   "id": "1622a000",
   "metadata": {},
   "source": [
    "## Manage comments and Auto-Reply"
   ]
  },
  {
   "cell_type": "code",
   "execution_count": null,
   "id": "1bcfc6d0",
   "metadata": {},
   "outputs": [],
   "source": [
    "#https://developers.facebook.com/docs/instagram-platform/instagram-api-with-facebook-login/comment-moderation\n",
    "#https://developers.facebook.com/docs/instagram-platform/instagram-graph-api/reference/ig-media/comments\n",
    "#https://developers.facebook.com/docs/instagram-platform/instagram-graph-api/reference/ig-comment/replies#create\n",
    "#https://developers.facebook.com/docs/instagram-platform/reference/instagram-media#edges\n",
    "#https://developers.facebook.com/docs/instagram-platform/instagram-graph-api/reference/ig-user/media#reading"
   ]
  },
  {
   "cell_type": "markdown",
   "id": "b0365a63",
   "metadata": {},
   "source": [
    "### Get Comments & Replies"
   ]
  },
  {
   "cell_type": "code",
   "execution_count": 4,
   "id": "3d83b380",
   "metadata": {},
   "outputs": [
    {
     "data": {
      "text/plain": [
       "'thumbnail_url,media_type,media_product_type,timestamp,like_count,comments_count,media_url,permalink,comments{id,from,text,timestamp,like_count,media,parent_id,replies{from,timestamp,like_count,text},hidden,user,username}'"
      ]
     },
     "execution_count": 4,
     "metadata": {},
     "output_type": "execute_result"
    }
   ],
   "source": [
    "business_discovery_parameters = \"thumbnail_url,media_type,media_product_type,timestamp,like_count,comments_count,media_url,permalink\"\n",
    "other_parameters = \"comments{id,from,text,timestamp,like_count,media,parent_id,replies{from,timestamp,like_count,text},hidden,user,username}\"\n",
    "fields = business_discovery_parameters + \",\" + other_parameters\n",
    "fields"
   ]
  },
  {
   "cell_type": "code",
   "execution_count": 5,
   "id": "bfe2e5c5",
   "metadata": {},
   "outputs": [
    {
     "name": "stdout",
     "output_type": "stream",
     "text": [
      "{\n",
      "    \"data\": [\n",
      "        {\n",
      "            \"media_type\": \"IMAGE\",\n",
      "            \"media_product_type\": \"FEED\",\n",
      "            \"timestamp\": \"2025-07-31T06:43:25+0000\",\n",
      "            \"like_count\": 1,\n",
      "            \"comments_count\": 2,\n",
      "            \"media_url\": \"https://scontent.cdninstagram.com/v/t51.82787-15/526631522_17843275647542910_4921033368664523029_n.jpg?stp=dst-jpg_e35_tt6&_nc_cat=101&ccb=1-7&_nc_sid=18de74&_nc_ohc=cNGh4eKOu5YQ7kNvwG2J7Lg&_nc_oc=AdmV7B-QrzzJhnO_gp9V8uMQjVHWSNCWUnZObUhl2B5CBaqWtaZQhlK05bKZ7JkV6zEBAatYI6fwx9aXk8wfmN7q&_nc_zt=23&_nc_ht=scontent.cdninstagram.com&edm=AM6HXa8EAAAA&_nc_gid=HHvPOuXukL4Ox56pUR9vwA&oh=00_AfRzL1rIwWXDmcuRkA7C0K1tRJnBnissI4HuR3Q7VyxFww&oe=6892562B\",\n",
      "            \"permalink\": \"https://www.instagram.com/p/DMwzUlFTU2H/\",\n",
      "            \"comments\": {\n",
      "                \"data\": [\n",
      "                    {\n",
      "                        \"id\": \"18047345528249440\",\n",
      "                        \"from\": {\n",
      "                            \"id\": \"655555347550295\",\n",
      "                            \"username\": \"theforgottenwan_\"\n",
      "                        },\n",
      "                        \"text\": \"Hello\",\n",
      "                        \"timestamp\": \"2025-08-01T08:18:36+0000\",\n",
      "                        \"like_count\": 0,\n",
      "                        \"media\": {\n",
      "                            \"id\": \"18171023602348133\"\n",
      "                        },\n",
      "                        \"hidden\": false,\n",
      "                        \"username\": \"theforgottenwan_\"\n",
      "                    },\n",
      "                    {\n",
      "                        \"id\": \"18151467307384895\",\n",
      "                        \"from\": {\n",
      "                            \"id\": \"17841476287277831\",\n",
      "                            \"username\": \"jestestbusiness\"\n",
      "                        },\n",
      "                        \"text\": \"Comment her\",\n",
      "                        \"timestamp\": \"2025-08-01T08:10:29+0000\",\n",
      "                        \"like_count\": 0,\n",
      "                        \"media\": {\n",
      "                            \"id\": \"18171023602348133\"\n",
      "                        },\n",
      "                        \"hidden\": false,\n",
      "                        \"user\": {\n",
      "                            \"id\": \"17841476287277831\"\n",
      "                        },\n",
      "                        \"username\": \"jestestbusiness\"\n",
      "                    }\n",
      "                ]\n",
      "            },\n",
      "            \"id\": \"18171023602348133\"\n",
      "        }\n",
      "    ],\n",
      "    \"paging\": {\n",
      "        \"cursors\": {\n",
      "            \"before\": \"QVFGbVc5WF9DeFRkSVRHV2ZA3V0hOQkMxTUxCbEktMlVlcHRsWGluYnFZAY0l6RGpSZAHNsNl80elFfV3JoTG1KY2RMMnZAPOW1jUnZAmVUhPdElaeE81cVNZAUjh3\",\n",
      "            \"after\": \"QVFGbVc5WF9DeFRkSVRHV2ZA3V0hOQkMxTUxCbEktMlVlcHRsWGluYnFZAY0l6RGpSZAHNsNl80elFfV3JoTG1KY2RMMnZAPOW1jUnZAmVUhPdElaeE81cVNZAUjh3\"\n",
      "        }\n",
      "    }\n",
      "}\n"
     ]
    }
   ],
   "source": [
    "url = f\"https://graph.facebook.com/v23.0/{ig_user_id}/media\"\n",
    "payload = {\n",
    "    \"fields\": fields,\n",
    "    \"access_token\": long_access_token\n",
    "}\n",
    "response = requests.get(url, params=payload)\n",
    "data = response.json()\n",
    "print(json.dumps(data, indent=4))"
   ]
  },
  {
   "cell_type": "code",
   "execution_count": null,
   "id": "04817f55",
   "metadata": {},
   "outputs": [],
   "source": [
    "image_comment = data[\"data\"][0][\"comments\"][\"data\"]\n",
    "print(json.dumps(image_comment, indent=4))"
   ]
  },
  {
   "cell_type": "markdown",
   "id": "9117114a",
   "metadata": {},
   "source": [
    "### Add Comments"
   ]
  },
  {
   "cell_type": "code",
   "execution_count": null,
   "id": "6017df78",
   "metadata": {},
   "outputs": [],
   "source": [
    "media_id = data[\"data\"][0][\"id\"]\n",
    "media_id"
   ]
  },
  {
   "cell_type": "code",
   "execution_count": null,
   "id": "3edbd101",
   "metadata": {},
   "outputs": [],
   "source": [
    "url = f\"https://graph.facebook.com/v23.0/{media_id}/comments\"\n",
    "payload = {\n",
    "    \"message\": \"PM US for more info!\",\n",
    "    \"access_token\": long_access_token\n",
    "}\n",
    "response = requests.post(url, params=payload)\n",
    "data = response.json()\n",
    "print(json.dumps(data, indent=4))"
   ]
  },
  {
   "cell_type": "markdown",
   "id": "28f98bec",
   "metadata": {},
   "source": [
    "### Reply to comments"
   ]
  },
  {
   "cell_type": "code",
   "execution_count": null,
   "id": "2f7f40bf",
   "metadata": {},
   "outputs": [],
   "source": [
    "comment_id = data[\"data\"][0][\"comments\"][\"data\"][1][\"id\"]\n",
    "comment_id"
   ]
  },
  {
   "cell_type": "code",
   "execution_count": null,
   "id": "1825b809",
   "metadata": {},
   "outputs": [],
   "source": [
    "url = f\"https://graph.facebook.com/v23.0/{comment_id}/replies\"\n",
    "payload = {\n",
    "    \"message\": \"Bonjour\",\n",
    "    \"access_token\": long_access_token\n",
    "}\n",
    "response = requests.post(url, params=payload)\n",
    "data = response.json()\n",
    "print(json.dumps(data, indent=4))"
   ]
  },
  {
   "cell_type": "markdown",
   "id": "3e432495",
   "metadata": {},
   "source": [
    "### Hide | Unhide Comments"
   ]
  },
  {
   "cell_type": "code",
   "execution_count": null,
   "id": "c07b138d",
   "metadata": {},
   "outputs": [],
   "source": [
    "comment_id = 18074775181988435"
   ]
  },
  {
   "cell_type": "code",
   "execution_count": null,
   "id": "bd4159d3",
   "metadata": {},
   "outputs": [],
   "source": [
    "url = f\"https://graph.facebook.com/v23.0/{comment_id}/\"\n",
    "payload = {\n",
    "    \"hide\": \"false\",\n",
    "    \"access_token\": long_access_token\n",
    "}\n",
    "response = requests.post(url, params=payload)\n",
    "data = response.json()\n",
    "print(json.dumps(data, indent=4))"
   ]
  },
  {
   "cell_type": "markdown",
   "id": "8ea19b6c",
   "metadata": {},
   "source": [
    "### Disable | Enable Comments"
   ]
  },
  {
   "cell_type": "code",
   "execution_count": null,
   "id": "2fd6d928",
   "metadata": {},
   "outputs": [],
   "source": [
    "media_id = 18171023602348133"
   ]
  },
  {
   "cell_type": "code",
   "execution_count": null,
   "id": "480a361d",
   "metadata": {},
   "outputs": [],
   "source": [
    "url = f\"https://graph.facebook.com/v23.0/{media_id}/\"\n",
    "payload = {\n",
    "    \"comment_enabled\": \"true\",\n",
    "    \"access_token\": long_access_token\n",
    "}\n",
    "response = requests.post(url, params=payload)\n",
    "data = response.json()\n",
    "print(json.dumps(data, indent=4))"
   ]
  },
  {
   "cell_type": "markdown",
   "id": "b367ad12",
   "metadata": {},
   "source": [
    "### Delete Comments"
   ]
  },
  {
   "cell_type": "code",
   "execution_count": null,
   "id": "f7e1660f",
   "metadata": {},
   "outputs": [],
   "source": [
    "comment_id = 18321019534236920"
   ]
  },
  {
   "cell_type": "code",
   "execution_count": null,
   "id": "6d581017",
   "metadata": {},
   "outputs": [],
   "source": [
    "url = f\"https://graph.facebook.com/v23.0/{comment_id}/\"\n",
    "payload = {\n",
    "    \"access_token\": long_access_token\n",
    "}\n",
    "response = requests.delete(url, params=payload)\n",
    "data = response.json()\n",
    "print(json.dumps(data, indent=4))"
   ]
  },
  {
   "cell_type": "code",
   "execution_count": null,
   "id": "83b19f4f",
   "metadata": {},
   "outputs": [],
   "source": []
  }
 ],
 "metadata": {
  "kernelspec": {
   "display_name": "venv",
   "language": "python",
   "name": "python3"
  },
  "language_info": {
   "codemirror_mode": {
    "name": "ipython",
    "version": 3
   },
   "file_extension": ".py",
   "mimetype": "text/x-python",
   "name": "python",
   "nbconvert_exporter": "python",
   "pygments_lexer": "ipython3",
   "version": "3.12.1"
  }
 },
 "nbformat": 4,
 "nbformat_minor": 5
}
