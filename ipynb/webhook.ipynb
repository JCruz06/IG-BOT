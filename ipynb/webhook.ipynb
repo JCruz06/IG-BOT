{
 "cells": [
  {
   "cell_type": "code",
   "execution_count": 1,
   "id": "1af0a1ee",
   "metadata": {},
   "outputs": [],
   "source": [
    "import requests\n",
    "import json"
   ]
  },
  {
   "cell_type": "markdown",
   "id": "5f0b4424",
   "metadata": {},
   "source": [
    "### Config Meta App + Instagram Variables"
   ]
  },
  {
   "cell_type": "code",
   "execution_count": 2,
   "id": "2d79308c",
   "metadata": {},
   "outputs": [],
   "source": [
    "with open('../cwdchat_config.json', 'r') as file:\n",
    "    config = json.load(file)\n",
    "\n",
    "app_id = config[\"app_id\"]\n",
    "app_secret = config[\"app_secret\"]\n",
    "redirect_uri = \"https://ig-bot-junf.onrender.com/\""
   ]
  },
  {
   "cell_type": "markdown",
   "id": "4d90d4a0",
   "metadata": {},
   "source": [
    "### Get authorization code"
   ]
  },
  {
   "cell_type": "markdown",
   "id": "28183790",
   "metadata": {},
   "source": [
    "#### Open in Browser Only"
   ]
  },
  {
   "cell_type": "code",
   "execution_count": 3,
   "id": "3766b0dd",
   "metadata": {},
   "outputs": [],
   "source": [
    "# https://www.instagram.com/oauth/authorize\n",
    "#     ?client_id={int(app_id)}\n",
    "#     &redirect_url={redirect_url}\n",
    "#     &response_type=code\n",
    "#     &scope-business"
   ]
  },
  {
   "cell_type": "code",
   "execution_count": 4,
   "id": "4053809f",
   "metadata": {},
   "outputs": [
    {
     "data": {
      "text/plain": [
       "'https://www.instagram.com/oauth/authorize?client_id=1113591307298730&redirect_uri=https://ig-bot-junf.onrender.com/&response_type=code&scope=instagram_business_basic%2Cinstagram_business_content_publish%2Cinstagram_business_manage_messages%2Cinstagram_business_manage_comments'"
      ]
     },
     "execution_count": 4,
     "metadata": {},
     "output_type": "execute_result"
    }
   ],
   "source": [
    "url = \"https://www.instagram.com/oauth/authorize?\"\n",
    "url = url + f\"client_id={int(app_id)}\"\n",
    "url = url + \"&\" + f\"redirect_uri={redirect_uri}\"\n",
    "url = url + \"&\" + f\"response_type=code\"\n",
    "url = url + \"&\" + f\"scope={('instagram_business_basic,instagram_business_content_publish,instagram_business_manage_messages,instagram_business_manage_comments').replace(',','%2C')}\"\n",
    "url"
   ]
  },
  {
   "cell_type": "markdown",
   "id": "8db1877e",
   "metadata": {},
   "source": [
    "### Paste url from browser and get authorization "
   ]
  },
  {
   "cell_type": "code",
   "execution_count": 5,
   "id": "e5241b06",
   "metadata": {},
   "outputs": [
    {
     "data": {
      "text/plain": [
       "'AQAX3q3kAb0NidzbgSIFssBTeIOdcGI5dRTWEjP5303dtCt8ULckGj8gEfNZ6-jlbZcstSRr5q3IFMGrvBshOzFJrkXz49rRsIZQWJBhurXit8mKny4c63tIggiZRwShbL2NftJAB4amisQLUWf_mPWlWcJo0qFv_yyg4ggZcnXVEyEjmWrgqVh73m9WosHMpkpOd7DSbSLzHVyQtRag99Jcs5_BjsyFK5AYEKzD0MDOdQ#_'"
      ]
     },
     "execution_count": 5,
     "metadata": {},
     "output_type": "execute_result"
    }
   ],
   "source": [
    "returned_url = \"https://ig-bot-junf.onrender.com/?code=AQAX3q3kAb0NidzbgSIFssBTeIOdcGI5dRTWEjP5303dtCt8ULckGj8gEfNZ6-jlbZcstSRr5q3IFMGrvBshOzFJrkXz49rRsIZQWJBhurXit8mKny4c63tIggiZRwShbL2NftJAB4amisQLUWf_mPWlWcJo0qFv_yyg4ggZcnXVEyEjmWrgqVh73m9WosHMpkpOd7DSbSLzHVyQtRag99Jcs5_BjsyFK5AYEKzD0MDOdQ#_\"\n",
    "authorization_code = returned_url.replace(redirect_uri + \"?code=\", \"\")\n",
    "authorization_code "
   ]
  },
  {
   "cell_type": "markdown",
   "id": "2d3ea93e",
   "metadata": {},
   "source": [
    "## Get User Access Token"
   ]
  },
  {
   "cell_type": "code",
   "execution_count": 6,
   "id": "d4bd9607",
   "metadata": {},
   "outputs": [],
   "source": [
    "# curl -X POST https://api.instagram.com/oauth/access_token \\\n",
    "#     -F 'client_id=<YOUR_INSTAGRAM_APP_ID>' \\\n",
    "#     -F 'client_secret=<YOUR_INSTAGRAM_APP_SECRET>' \\\n",
    "#     -F 'grant_type=authorization_code' \\\n",
    "#     -F 'redirect_uri=https://<YOUR_REDIRECT_URI>/' \\\n",
    "#     -F 'code=<CODE>'"
   ]
  },
  {
   "cell_type": "code",
   "execution_count": 6,
   "id": "94d4e937",
   "metadata": {},
   "outputs": [
    {
     "name": "stdout",
     "output_type": "stream",
     "text": [
      "{\n",
      "    \"access_token\": \"IGAAP0zi5L56pBZAE96Mi1POHUwOEt2RE1MOTBhR0lFT2s3X0lNOVp3X1Q3SWxNZAjRpYVlFSF9HZA3g2QWZAzOTZAGdFhId0tXblZAuTUVZAUWo1cGIweFdUeHRRV0xTZAW9QQ1hGN2FTUHhnTllodVlmeV9jUHlQcFd3TVF1SXlKUklHRmZAzWGtXN0xyaDFna2xGNHpKRmhsLQZDZD\",\n",
      "    \"user_id\": 24257764267209080,\n",
      "    \"permissions\": [\n",
      "        \"instagram_business_basic\",\n",
      "        \"instagram_business_manage_messages\",\n",
      "        \"instagram_business_content_publish\",\n",
      "        \"instagram_business_manage_insights\",\n",
      "        \"instagram_business_manage_comments\"\n",
      "    ]\n",
      "}\n",
      "Your user token is: IGAAP...\n"
     ]
    }
   ],
   "source": [
    "url = f\"https://api.instagram.com/oauth/access_token\"\n",
    "form_data = {\n",
    "    \"client_id\": int(app_id),\n",
    "    \"client_secret\": app_secret,\n",
    "    \"grant_type\": \"authorization_code\",\n",
    "    \"redirect_uri\": redirect_uri,\n",
    "    \"code\": authorization_code\n",
    "}\n",
    "response = requests.post(url, data=form_data)\n",
    "data = response.json()\n",
    "print(json.dumps(data, indent=4))\n",
    "user_access_token = data[\"access_token\"]\n",
    "print(f\"Your user token is: {user_access_token[0:5]}...\")"
   ]
  },
  {
   "cell_type": "code",
   "execution_count": 7,
   "id": "2c6cc7cc",
   "metadata": {},
   "outputs": [
    {
     "name": "stdout",
     "output_type": "stream",
     "text": [
      "Your user token is: IGAAP0zi5L56pBZAFB2ZAVBKTkNvN0ttdTVGZAUs5RjdGRE55czduQUY2NUhFckZAFRzhJS19ZAWWxLVWx1X0gxZADVSd19mbnVpY1E2dWNnTFFLdUQxRWtLUldiUHo0ampGZAW1CY3p0ekhBRVpaSm1KZAWd0UGZAzNlotQklrOU9XVWFvYkk3M3haaFdzZA0FsTmZA3cGtYWmJyZAwZDZD...\n"
     ]
    }
   ],
   "source": [
    "print(f\"Your user token is: {user_access_token}...\")"
   ]
  },
  {
   "cell_type": "markdown",
   "id": "a93c51f0",
   "metadata": {},
   "source": [
    "### Long Access Token"
   ]
  },
  {
   "cell_type": "code",
   "execution_count": 7,
   "id": "7e9e89c2",
   "metadata": {},
   "outputs": [
    {
     "name": "stdout",
     "output_type": "stream",
     "text": [
      "{\n",
      "    \"access_token\": \"IGAAP0zi5L56pBZAE5zcHR2c01XeUZAhbGxFT296SC1QLWVNMUhCQXBRX1l4TzBKZADhraTlzZAlpTaE1ZAOVpjcHY2VDNnUnBxZA3ViVGFrX0RQUDB1V0JVbFVfRjM0eUVMLXRSemdJSHN2UUd2RERSaTZAIVTB3\",\n",
      "    \"token_type\": \"bearer\",\n",
      "    \"expires_in\": 5159778\n",
      "}\n",
      "Your long token is: IGAAP0zi5L56pBZAE5zcHR2c01XeUZAhbGxFT296SC1QLWVNMUhCQXBRX1l4TzBKZADhraTlzZAlpTaE1ZAOVpjcHY2VDNnUnBxZA3ViVGFrX0RQUDB1V0JVbFVfRjM0eUVMLXRSemdJSHN2UUd2RERSaTZAIVTB3...\n"
     ]
    }
   ],
   "source": [
    "url = f\"https://graph.instagram.com/access_token\"\n",
    "payload = {\n",
    "    \"grant_type\": \"ig_exchange_token\",\n",
    "    \"client_secret\": app_secret,\n",
    "    \"access_token\": user_access_token\n",
    "}\n",
    "response = requests.get(url, params=payload)\n",
    "data = response.json()\n",
    "print(json.dumps(data, indent=4))\n",
    "long_access_token = data[\"access_token\"]\n",
    "print(f\"Your long token is: {long_access_token}...\")"
   ]
  },
  {
   "cell_type": "markdown",
   "id": "3f95331a",
   "metadata": {},
   "source": [
    "### Test API"
   ]
  },
  {
   "cell_type": "code",
   "execution_count": 8,
   "id": "1bfc7d0c",
   "metadata": {},
   "outputs": [
    {
     "name": "stdout",
     "output_type": "stream",
     "text": [
      "{\n",
      "    \"id\": \"24257764267209080\",\n",
      "    \"user_id\": \"17841476287277831\",\n",
      "    \"username\": \"jestestbusiness\",\n",
      "    \"name\": \"Jester Ray\",\n",
      "    \"account_type\": \"BUSINESS\",\n",
      "    \"profile_picture_url\": \"https://scontent.cdninstagram.com/v/t51.82787-19/525563668_17842905132542910_508177865459150289_n.jpg?stp=dst-jpg_s206x206_tt6&_nc_cat=106&ccb=1-7&_nc_sid=bf7eb4&efg=eyJ2ZW5jb2RlX3RhZyI6InByb2ZpbGVfcGljLnd3dy4xMDI0LkMzIn0%3D&_nc_ohc=QFcKiJSp4nAQ7kNvwFA1Tqu&_nc_oc=Adka8WDI9BQHXpzDEKZeg7_vxiwGPyyGHPE8dKeypMd4_vRHTnysHKojc5UX_3j-vizFUEebSDj3dCWZ2_mSEpVS&_nc_zt=24&_nc_ht=scontent.cdninstagram.com&edm=AP4hL3IEAAAA&_nc_gid=7EI6-kc1XbN8JRZUaIJvag&oh=00_AfTwMXcHrZUSPoqofkgt4zUofxXcZjrwQer0GDjClULXSQ&oe=68925E78\",\n",
      "    \"followers_count\": 1,\n",
      "    \"follows_count\": 0,\n",
      "    \"media_count\": 1\n",
      "}\n",
      "App Scoped User ID : 24257764267209080\n",
      "Instagram Business Account ID : 17841476287277831\n"
     ]
    }
   ],
   "source": [
    "url = f\"https://graph.instagram.com/v21.0/me/\"\n",
    "payload = {\n",
    "    \"fields\": \"id,user_id,username,name,account_type,profile_picture_url,followers_count,follows_count,media_count\",\n",
    "    \"access_token\": long_access_token\n",
    "}\n",
    "response = requests.get(url, params=payload)\n",
    "data = response.json()\n",
    "print(json.dumps(data, indent=4))\n",
    "print(f\"App Scoped User ID : {data['id']}\")\n",
    "print(f\"Instagram Business Account ID : {data['user_id']}\")"
   ]
  },
  {
   "cell_type": "markdown",
   "id": "6a9d4154",
   "metadata": {},
   "source": [
    "## Webhooks & Direct Messages"
   ]
  },
  {
   "cell_type": "markdown",
   "id": "55efb4c7",
   "metadata": {},
   "source": [
    "### Get User Information"
   ]
  },
  {
   "cell_type": "code",
   "execution_count": 12,
   "id": "f84cf6c7",
   "metadata": {},
   "outputs": [
    {
     "name": "stdout",
     "output_type": "stream",
     "text": [
      "{\n",
      "    \"error\": {\n",
      "        \"message\": \"Tried accessing nonexisting field (profile_picture_url) on node type (IGBusinessScopedID)\",\n",
      "        \"type\": \"IGApiException\",\n",
      "        \"code\": 100,\n",
      "        \"fbtrace_id\": \"AB_M7J0epRKyBoVD90NuEtF\"\n",
      "    }\n",
      "}\n"
     ]
    }
   ],
   "source": [
    "url = f\"https://graph.instagram.com/v23.0/551295454640427\"\n",
    "payload = {\n",
    "    \"fields\": \"name,profile_picture_url,username,followers_count,is_business_follow_user,is_user_follow_business,is_verified_user\",\n",
    "    \"access_token\": long_access_token\n",
    "}\n",
    "response = requests.get(url, params=payload)\n",
    "data = response.json()\n",
    "print(json.dumps(data, indent=4))"
   ]
  },
  {
   "cell_type": "markdown",
   "id": "163350f2",
   "metadata": {},
   "source": [
    "### Send Text Message"
   ]
  },
  {
   "cell_type": "code",
   "execution_count": 15,
   "id": "8e82688c",
   "metadata": {},
   "outputs": [
    {
     "name": "stdout",
     "output_type": "stream",
     "text": [
      "{\n",
      "    \"error\": {\n",
      "        \"message\": \"Empty text\",\n",
      "        \"type\": \"IGApiException\",\n",
      "        \"code\": 100,\n",
      "        \"error_subcode\": 2534052,\n",
      "        \"fbtrace_id\": \"Ax3T7be3gl_bGzQUzV51WL2\"\n",
      "    }\n",
      "}\n"
     ]
    }
   ],
   "source": [
    "url = f\"https://graph.instagram.com/v21.0/me/messages\"\n",
    "headers = {\"Authorization\": f\"Bearer {user_access_token}\", \"Content-Type\": \"application/json\"}\n",
    "json_body = {\n",
    "    \"recipient\":{\n",
    "        \"id\":551295454640427\n",
    "    },\n",
    "    \"messages\":{\n",
    "        \"text\":\"Sup Dog!\"\n",
    "    }\n",
    "}\n",
    "response = requests.post(url, headers=headers, json=json_body)\n",
    "data = response.json()\n",
    "print(json.dumps(data, indent=4))"
   ]
  },
  {
   "cell_type": "markdown",
   "id": "66b745e9",
   "metadata": {},
   "source": [
    "## Setup Instagram Login"
   ]
  },
  {
   "cell_type": "code",
   "execution_count": null,
   "id": "c72b4b4b",
   "metadata": {},
   "outputs": [],
   "source": []
  }
 ],
 "metadata": {
  "kernelspec": {
   "display_name": "venv",
   "language": "python",
   "name": "python3"
  },
  "language_info": {
   "codemirror_mode": {
    "name": "ipython",
    "version": 3
   },
   "file_extension": ".py",
   "mimetype": "text/x-python",
   "name": "python",
   "nbconvert_exporter": "python",
   "pygments_lexer": "ipython3",
   "version": "3.12.1"
  }
 },
 "nbformat": 4,
 "nbformat_minor": 5
}
